{
 "cells": [
  {
   "cell_type": "code",
   "execution_count": 1,
   "id": "cfbd108b",
   "metadata": {},
   "outputs": [
    {
     "name": "stdout",
     "output_type": "stream",
     "text": [
      "Количество файлов .pt с train_1 по train_50000: 2960\n"
     ]
    }
   ],
   "source": [
    "import os\n",
    "from pathlib import Path\n",
    "\n",
    "start_idx = 1\n",
    "end_idx = 50000\n",
    "base_dir = \"/home/borntowarn/projects/chest-diseases/training/data/CT-RATE/dataset/valid_fixed_embeds_not_normalized_base_new\"\n",
    "\n",
    "count = 0\n",
    "list_of_files = list(Path(base_dir).rglob(\"*.pt\"))\n",
    "\n",
    "print(f\"Количество файлов .pt с train_{start_idx} по train_{end_idx}: {len(list_of_files)}\")\n"
   ]
  },
  {
   "cell_type": "code",
   "execution_count": 1,
   "id": "6c60ff2e",
   "metadata": {},
   "outputs": [
    {
     "name": "stderr",
     "output_type": "stream",
     "text": [
      "/home/borntowarn/projects/chest-diseases/venv/lib/python3.11/site-packages/tqdm/auto.py:21: TqdmWarning: IProgress not found. Please update jupyter and ipywidgets. See https://ipywidgets.readthedocs.io/en/stable/user_install.html\n",
      "  from .autonotebook import tqdm as notebook_tqdm\n"
     ]
    }
   ],
   "source": [
    "import sys\n",
    "sys.path.append('..')\n",
    "\n",
    "from src.utils.preprocess import extract_archive_to_dir, read_ct_series, get_thinnest_slice_series_with_windows_paths_, get_study_id_and_series_id, copy_files_to_directory\n",
    "from src.data import examination_to_tensor_updated_with_checks"
   ]
  },
  {
   "cell_type": "code",
   "execution_count": 2,
   "id": "4736498f",
   "metadata": {},
   "outputs": [
    {
     "name": "stderr",
     "output_type": "stream",
     "text": [
      "\u001b[32m2025-09-30 00:45:46.091\u001b[0m | \u001b[1mINFO    \u001b[0m | \u001b[36msrc.data\u001b[0m:\u001b[36mexamination_to_tensor_updated_with_checks\u001b[0m:\u001b[36m315\u001b[0m - \u001b[1mОбработка DICOM исследования\u001b[0m\n",
      "\u001b[32m2025-09-30 00:45:46.091\u001b[0m | \u001b[1mINFO    \u001b[0m | \u001b[36msrc.utils.preprocess_new\u001b[0m:\u001b[36mget_valid_series\u001b[0m:\u001b[36m167\u001b[0m - \u001b[1mЧтение КТ-серий из /home/borntowarn/projects/chest-diseases/training/data/MosMedData/MosMedData-LDCT-LUNGCR-type I-v 1/studies/1.2.643.5.1.13.13.12.2.77.8252.00001007020103130905041401130706\u001b[0m\n",
      "\u001b[32m2025-09-30 00:45:47.563\u001b[0m | \u001b[1mINFO    \u001b[0m | \u001b[36msrc.utils.preprocess_new\u001b[0m:\u001b[36mcheck_series_body_part\u001b[0m:\u001b[36m45\u001b[0m - \u001b[1mОпределение области тела на серии\u001b[0m\n",
      "\u001b[32m2025-09-30 00:45:47.565\u001b[0m | \u001b[1mINFO    \u001b[0m | \u001b[36msrc.utils.preprocess_new\u001b[0m:\u001b[36mcopy_files_to_directory\u001b[0m:\u001b[36m236\u001b[0m - \u001b[1mКопирование файлов в /tmp/tmppr1401vg\u001b[0m\n",
      "\u001b[32m2025-09-30 00:45:47.745\u001b[0m | \u001b[1mINFO    \u001b[0m | \u001b[36msrc.utils.preprocess_new\u001b[0m:\u001b[36mcopy_files_to_directory\u001b[0m:\u001b[36m251\u001b[0m - \u001b[1mФайлы скопированы в /tmp/tmppr1401vg\u001b[0m\n",
      "\u001b[32m2025-09-30 00:45:53.421\u001b[0m | \u001b[1mINFO    \u001b[0m | \u001b[36msrc.utils.preprocess_new\u001b[0m:\u001b[36mcheck_series_body_part\u001b[0m:\u001b[36m76\u001b[0m - \u001b[1mОбласть тела на серии: CHEST\u001b[0m\n",
      "\u001b[32m2025-09-30 00:45:53.457\u001b[0m | \u001b[1mINFO    \u001b[0m | \u001b[36msrc.utils.preprocess_new\u001b[0m:\u001b[36mcheck_series_body_part\u001b[0m:\u001b[36m45\u001b[0m - \u001b[1mОпределение области тела на серии\u001b[0m\n",
      "\u001b[32m2025-09-30 00:45:53.464\u001b[0m | \u001b[1mINFO    \u001b[0m | \u001b[36msrc.utils.preprocess_new\u001b[0m:\u001b[36mcopy_files_to_directory\u001b[0m:\u001b[36m236\u001b[0m - \u001b[1mКопирование файлов в /tmp/tmp3rgvvsjq\u001b[0m\n",
      "\u001b[32m2025-09-30 00:45:53.745\u001b[0m | \u001b[1mINFO    \u001b[0m | \u001b[36msrc.utils.preprocess_new\u001b[0m:\u001b[36mcopy_files_to_directory\u001b[0m:\u001b[36m251\u001b[0m - \u001b[1mФайлы скопированы в /tmp/tmp3rgvvsjq\u001b[0m\n",
      "\u001b[32m2025-09-30 00:46:03.312\u001b[0m | \u001b[1mINFO    \u001b[0m | \u001b[36msrc.utils.preprocess_new\u001b[0m:\u001b[36mcheck_series_body_part\u001b[0m:\u001b[36m76\u001b[0m - \u001b[1mОбласть тела на серии: CHEST\u001b[0m\n",
      "\u001b[32m2025-09-30 00:46:03.358\u001b[0m | \u001b[1mINFO    \u001b[0m | \u001b[36msrc.utils.preprocess_new\u001b[0m:\u001b[36mget_valid_series\u001b[0m:\u001b[36m223\u001b[0m - \u001b[1mПрочитаны КТ-серии из /home/borntowarn/projects/chest-diseases/training/data/MosMedData/MosMedData-LDCT-LUNGCR-type I-v 1/studies/1.2.643.5.1.13.13.12.2.77.8252.00001007020103130905041401130706; найдено 2 серий КТ ОГК\u001b[0m\n",
      "\u001b[32m2025-09-30 00:46:03.359\u001b[0m | \u001b[1mINFO    \u001b[0m | \u001b[36msrc.utils.preprocess_new\u001b[0m:\u001b[36mget_thinnest_slice_series_with_windows_paths_\u001b[0m:\u001b[36m268\u001b[0m - \u001b[1mПоиск серии с минимальной толщиной среза с учётом оконных параметров\u001b[0m\n",
      "\u001b[32m2025-09-30 00:46:03.359\u001b[0m | \u001b[1mINFO    \u001b[0m | \u001b[36msrc.utils.preprocess_new\u001b[0m:\u001b[36mget_thinnest_slice_series_with_windows_paths_\u001b[0m:\u001b[36m315\u001b[0m - \u001b[1mОпределена минимальная толщина среза: 0.5 мм\u001b[0m\n",
      "\u001b[32m2025-09-30 00:46:03.360\u001b[0m | \u001b[1mINFO    \u001b[0m | \u001b[36msrc.utils.preprocess_new\u001b[0m:\u001b[36mget_thinnest_slice_series_with_windows_paths_\u001b[0m:\u001b[36m324\u001b[0m - \u001b[1mПараметры окна — WindowCenter: -550, WindowWidth: 1600\u001b[0m\n",
      "\u001b[32m2025-09-30 00:46:03.361\u001b[0m | \u001b[1mINFO    \u001b[0m | \u001b[36msrc.utils.preprocess_new\u001b[0m:\u001b[36mcheck_for_missing_and_duplicate_values\u001b[0m:\u001b[36m348\u001b[0m - \u001b[1mПроверка на пропуски и дубликаты в последовательности\u001b[0m\n",
      "\u001b[32m2025-09-30 00:46:03.380\u001b[0m | \u001b[1mINFO    \u001b[0m | \u001b[36msrc.utils.preprocess_new\u001b[0m:\u001b[36mcopy_files_to_directory\u001b[0m:\u001b[36m236\u001b[0m - \u001b[1mКопирование файлов в /tmp/tmppq_i0_mf\u001b[0m\n",
      "\u001b[32m2025-09-30 00:46:03.661\u001b[0m | \u001b[1mINFO    \u001b[0m | \u001b[36msrc.utils.preprocess_new\u001b[0m:\u001b[36mcopy_files_to_directory\u001b[0m:\u001b[36m251\u001b[0m - \u001b[1mФайлы скопированы в /tmp/tmppq_i0_mf\u001b[0m\n",
      "\u001b[32m2025-09-30 00:46:03.663\u001b[0m | \u001b[1mINFO    \u001b[0m | \u001b[36msrc.utils.preprocess_new\u001b[0m:\u001b[36mget_study_id_and_series_id\u001b[0m:\u001b[36m143\u001b[0m - \u001b[1mНайден StudyInstanceUID: 1.2.643.5.1.13.13.12.2.77.8252.00001007020103130905041401130706 и SeriesInstanceUID: 1.2.643.5.1.13.13.12.2.77.8252.02110901050806091404100511030202 в файле /tmp/tmppq_i0_mf/1.2.643.5.1.13.13.12.2.77.8252.11140604031203010715131506010507.dcm\u001b[0m\n",
      "\u001b[32m2025-09-30 00:46:03.663\u001b[0m | \u001b[1mINFO    \u001b[0m | \u001b[36msrc.data\u001b[0m:\u001b[36mexamination_to_tensor_updated_with_checks\u001b[0m:\u001b[36m332\u001b[0m - \u001b[1mЧтение финальной серии из /tmp/tmppq_i0_mf\u001b[0m\n"
     ]
    }
   ],
   "source": [
    "from tempfile import TemporaryDirectory\n",
    "import torch\n",
    "from pathlib import Path\n",
    "import torchio as tio\n",
    "\n",
    "data_path = Path('/home/borntowarn/projects/chest-diseases/training/data/MosMedData/MosMedData-LDCT-LUNGCR-type I-v 1/studies/1.2.643.5.1.13.13.12.2.77.8252.00001007020103130905041401130706')\n",
    "result = examination_to_tensor_updated_with_checks(data_path)\n",
    "\n"
   ]
  },
  {
   "cell_type": "code",
   "execution_count": 4,
   "id": "e56e785f",
   "metadata": {},
   "outputs": [
    {
     "data": {
      "text/plain": [
       "{'tensor': tensor([[[[-1., -1., -1.,  ..., -1., -1., -1.],\n",
       "           [-1., -1., -1.,  ..., -1., -1., -1.],\n",
       "           [-1., -1., -1.,  ..., -1., -1., -1.],\n",
       "           ...,\n",
       "           [-1., -1., -1.,  ..., -1., -1., -1.],\n",
       "           [-1., -1., -1.,  ..., -1., -1., -1.],\n",
       "           [-1., -1., -1.,  ..., -1., -1., -1.]],\n",
       " \n",
       "          [[-1., -1., -1.,  ..., -1., -1., -1.],\n",
       "           [-1., -1., -1.,  ..., -1., -1., -1.],\n",
       "           [-1., -1., -1.,  ..., -1., -1., -1.],\n",
       "           ...,\n",
       "           [-1., -1., -1.,  ..., -1., -1., -1.],\n",
       "           [-1., -1., -1.,  ..., -1., -1., -1.],\n",
       "           [-1., -1., -1.,  ..., -1., -1., -1.]],\n",
       " \n",
       "          [[-1., -1., -1.,  ..., -1., -1., -1.],\n",
       "           [-1., -1., -1.,  ..., -1., -1., -1.],\n",
       "           [-1., -1., -1.,  ..., -1., -1., -1.],\n",
       "           ...,\n",
       "           [-1., -1., -1.,  ..., -1., -1., -1.],\n",
       "           [-1., -1., -1.,  ..., -1., -1., -1.],\n",
       "           [-1., -1., -1.,  ..., -1., -1., -1.]],\n",
       " \n",
       "          ...,\n",
       " \n",
       "          [[-1., -1., -1.,  ..., -1., -1., -1.],\n",
       "           [-1., -1., -1.,  ..., -1., -1., -1.],\n",
       "           [-1., -1., -1.,  ..., -1., -1., -1.],\n",
       "           ...,\n",
       "           [-1., -1., -1.,  ..., -1., -1., -1.],\n",
       "           [-1., -1., -1.,  ..., -1., -1., -1.],\n",
       "           [-1., -1., -1.,  ..., -1., -1., -1.]],\n",
       " \n",
       "          [[-1., -1., -1.,  ..., -1., -1., -1.],\n",
       "           [-1., -1., -1.,  ..., -1., -1., -1.],\n",
       "           [-1., -1., -1.,  ..., -1., -1., -1.],\n",
       "           ...,\n",
       "           [-1., -1., -1.,  ..., -1., -1., -1.],\n",
       "           [-1., -1., -1.,  ..., -1., -1., -1.],\n",
       "           [-1., -1., -1.,  ..., -1., -1., -1.]],\n",
       " \n",
       "          [[-1., -1., -1.,  ..., -1., -1., -1.],\n",
       "           [-1., -1., -1.,  ..., -1., -1., -1.],\n",
       "           [-1., -1., -1.,  ..., -1., -1., -1.],\n",
       "           ...,\n",
       "           [-1., -1., -1.,  ..., -1., -1., -1.],\n",
       "           [-1., -1., -1.,  ..., -1., -1., -1.],\n",
       "           [-1., -1., -1.,  ..., -1., -1., -1.]]]]),\n",
       " 'study_id': '1.2.643.5.1.13.13.12.2.77.8252.00001007020103130905041401130706',\n",
       " 'series_id': '1.2.643.5.1.13.13.12.2.77.8252.02110901050806091404100511030202',\n",
       " 'warnings': []}"
      ]
     },
     "execution_count": 4,
     "metadata": {},
     "output_type": "execute_result"
    }
   ],
   "source": [
    "result"
   ]
  },
  {
   "cell_type": "code",
   "execution_count": 3,
   "id": "43c585c6",
   "metadata": {},
   "outputs": [
    {
     "name": "stderr",
     "output_type": "stream",
     "text": [
      "/home/borntowarn/projects/chest-diseases/venv/lib/python3.11/site-packages/tqdm/auto.py:21: TqdmWarning: IProgress not found. Please update jupyter and ipywidgets. See https://ipywidgets.readthedocs.io/en/stable/user_install.html\n",
      "  from .autonotebook import tqdm as notebook_tqdm\n"
     ]
    }
   ],
   "source": [
    "from datasets import load_dataset\n",
    "\n",
    "# Login using e.g. `huggingface-cli login` to access this dataset\n",
    "ds = load_dataset(\"ibrahimhamamci/CT-RATE\", \"labels\", token=TOKEN, cache_dir='./data')"
   ]
  },
  {
   "cell_type": "code",
   "execution_count": 9,
   "id": "501673cc",
   "metadata": {},
   "outputs": [
    {
     "data": {
      "text/plain": [
       "47149"
      ]
     },
     "execution_count": 9,
     "metadata": {},
     "output_type": "execute_result"
    }
   ],
   "source": [
    "len(ds['train']['VolumeName'])"
   ]
  },
  {
   "cell_type": "code",
   "execution_count": 6,
   "id": "53d5460c",
   "metadata": {},
   "outputs": [
    {
     "data": {
      "text/plain": [
       "20000"
      ]
     },
     "execution_count": 6,
     "metadata": {},
     "output_type": "execute_result"
    }
   ],
   "source": [
    "len(set([i.rsplit('_', 2)[0] for i in ds['train']['VolumeName']]))"
   ]
  }
 ],
 "metadata": {
  "kernelspec": {
   "display_name": "Python 3",
   "language": "python",
   "name": "python3"
  },
  "language_info": {
   "codemirror_mode": {
    "name": "ipython",
    "version": 3
   },
   "file_extension": ".py",
   "mimetype": "text/x-python",
   "name": "python",
   "nbconvert_exporter": "python",
   "pygments_lexer": "ipython3",
   "version": "3.11.13"
  }
 },
 "nbformat": 4,
 "nbformat_minor": 5
}

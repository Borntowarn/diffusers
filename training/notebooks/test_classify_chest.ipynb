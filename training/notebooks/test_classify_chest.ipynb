{
 "cells": [
  {
   "cell_type": "code",
   "execution_count": 1,
   "id": "98306db9",
   "metadata": {},
   "outputs": [],
   "source": [
    "import sys\n",
    "sys.path.append('..')"
   ]
  },
  {
   "cell_type": "code",
   "execution_count": null,
   "id": "1058b079",
   "metadata": {},
   "outputs": [
    {
     "name": "stderr",
     "output_type": "stream",
     "text": [
      "/home/borntowarn/projects/chest-diseases/venv/lib/python3.11/site-packages/tqdm/auto.py:21: TqdmWarning: IProgress not found. Please update jupyter and ipywidgets. See https://ipywidgets.readthedocs.io/en/stable/user_install.html\n",
      "  from .autonotebook import tqdm as notebook_tqdm\n"
     ]
    },
    {
     "name": "stdout",
     "output_type": "stream",
     "text": [
      "(401, 512, 512)\n",
      "int16\n",
      "(0.61, 0.61, 0.8)\n",
      "BodyPartExamined: CHEST\n"
     ]
    }
   ],
   "source": [
    "import SimpleITK as sitk\n",
    "from bpreg.inference.inference_model import InferenceModel\n",
    "import warnings\n",
    "\n",
    "\n",
    "# Suppress numpy v2. UserWarning\n",
    "warnings.filterwarnings(\n",
    "    \"ignore\", category=UserWarning\n",
    ")\n",
    "\n",
    "DICOM_PATH = '/home/borntowarn/projects/chest-diseases/training/data/MosMedData/MosMedData-LDCT-LUNGCR-type I-v 1/studies/1.2.643.5.1.13.13.12.2.77.8252.00001007020103130905041401130706/1.2.643.5.1.13.13.12.2.77.8252.12100703151303031011050109140303'\n",
    "\n",
    "model = InferenceModel(base_dir='../weights/bpr/')\n",
    "\n",
    "reader = sitk.ImageSeriesReader()\n",
    "dicom_names = reader.GetGDCMSeriesFileNames(DICOM_PATH)\n",
    "reader.SetFileNames(dicom_names)\n",
    "image = reader.Execute()\n",
    "dicom_spacings = image.GetSpacing()\n",
    "dicom_array = sitk.GetArrayFromImage(image)\n",
    "print(dicom_array.shape)\n",
    "print(dicom_array.dtype)\n",
    "print(dicom_spacings)\n",
    "\n",
    "bodypart_metadata = model.npy2json(\n",
    "    X_=dicom_array,\n",
    "    output_path='',  # No data need to be saved in json file\n",
    "    pixel_spacings=dicom_spacings,\n",
    "    axis_ordering=(2,1,0)  # Base sitk.GetArrayFromImage ordering\n",
    ")\n",
    "\n",
    "print(f\"BodyPartExamined: {bodypart_metadata['body part examined tag']}\")"
   ]
  },
  {
   "cell_type": "code",
   "execution_count": 3,
   "id": "73808573",
   "metadata": {},
   "outputs": [
    {
     "data": {
      "text/plain": [
       "numpy.ndarray"
      ]
     },
     "execution_count": 3,
     "metadata": {},
     "output_type": "execute_result"
    }
   ],
   "source": [
    "type(dicom_array)"
   ]
  }
 ],
 "metadata": {
  "kernelspec": {
   "display_name": "Python 3",
   "language": "python",
   "name": "python3"
  },
  "language_info": {
   "codemirror_mode": {
    "name": "ipython",
    "version": 3
   },
   "file_extension": ".py",
   "mimetype": "text/x-python",
   "name": "python",
   "nbconvert_exporter": "python",
   "pygments_lexer": "ipython3",
   "version": "3.11.13"
  }
 },
 "nbformat": 4,
 "nbformat_minor": 5
}

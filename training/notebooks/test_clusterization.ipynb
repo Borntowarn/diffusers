{
 "cells": [
  {
   "cell_type": "code",
   "execution_count": 1,
   "id": "84ced57e",
   "metadata": {},
   "outputs": [],
   "source": [
    "import os\n",
    "import torch\n",
    "import numpy as np\n",
    "import faiss\n",
    "from pathlib import Path\n",
    "from typing import Dict, List, Tuple, Optional\n",
    "import pickle\n",
    "from tqdm import tqdm\n"
   ]
  },
  {
   "cell_type": "code",
   "execution_count": 2,
   "id": "8dfe0c1e",
   "metadata": {},
   "outputs": [],
   "source": [
    "class FaissDatabase:\n",
    "    \"\"\"\n",
    "    Класс для работы с FAISS базой данных эмбеддингов.\n",
    "    Поддерживает создание индекса, добавление эмбеддингов и поиск ближайших соседей.\n",
    "    \"\"\"\n",
    "    \n",
    "    def __init__(self, dimension: int = 512, index_type: str = \"flat\"):\n",
    "        \"\"\"\n",
    "        Инициализация FAISS базы данных.\n",
    "        \n",
    "        Args:\n",
    "            dimension: Размерность эмбеддингов (по умолчанию 512)\n",
    "            index_type: Тип индекса (\"flat\", \"ivf\", \"hnsw\")\n",
    "        \"\"\"\n",
    "        self.dimension = dimension\n",
    "        self.index_type = index_type\n",
    "        self.index = None\n",
    "        self.metadata = {}  # Словарь для хранения метаданных по индексам\n",
    "        self.id_to_path = {}  # Маппинг ID в базе к пути файла\n",
    "        self.path_to_id = {}  # Обратный маппинг\n",
    "        self.next_id = 0\n",
    "        \n",
    "    def _create_index(self, n_vectors: int = 0):\n",
    "        \"\"\"Создает FAISS индекс в зависимости от типа.\"\"\"\n",
    "        if self.index_type == \"flat\":\n",
    "            # Точный поиск, медленный для больших баз\n",
    "            self.index = faiss.IndexFlatIP(self.dimension)  # Inner Product (cosine similarity)\n",
    "        elif self.index_type == \"ivf\":\n",
    "            # Приближенный поиск, быстрый для больших баз\n",
    "            quantizer = faiss.IndexFlatIP(self.dimension)\n",
    "            nlist = min(100, max(1, n_vectors // 100))  # Количество кластеров\n",
    "            self.index = faiss.IndexIVFFlat(quantizer, self.dimension, nlist)\n",
    "        elif self.index_type == \"hnsw\":\n",
    "            # Графовый индекс, хороший баланс скорости и точности\n",
    "            self.index = faiss.IndexHNSWFlat(self.dimension, 32)\n",
    "        else:\n",
    "            raise ValueError(f\"Неподдерживаемый тип индекса: {self.index_type}\")\n",
    "    \n",
    "    def add_embeddings_from_files(self, \n",
    "                                 embeddings_dir: str, \n",
    "                                 metadata: Dict[str, any] = None,\n",
    "                                 file_pattern: str = \"*.pt\") -> int:\n",
    "        \"\"\"\n",
    "        Добавляет эмбеддинги из файлов в базу данных.\n",
    "        \n",
    "        Args:\n",
    "            embeddings_dir: Путь к папке с .pt файлами эмбеддингов\n",
    "            metadata: Словарь с метаданными (опционально)\n",
    "            file_pattern: Паттерн для поиска файлов (по умолчанию \"*.pt\")\n",
    "            \n",
    "        Returns:\n",
    "            Количество добавленных эмбеддингов\n",
    "        \"\"\"\n",
    "        embeddings_dir = Path(embeddings_dir)\n",
    "        if not embeddings_dir.exists():\n",
    "            raise ValueError(f\"Папка {embeddings_dir} не существует\")\n",
    "        \n",
    "        # Находим все .pt файлы\n",
    "        pt_files = list(embeddings_dir.rglob(file_pattern))\n",
    "        if not pt_files:\n",
    "            print(f\"Не найдено файлов с паттерном {file_pattern} в {embeddings_dir}\")\n",
    "            return 0\n",
    "        \n",
    "        print(f\"Найдено {len(pt_files)} файлов эмбеддингов\")\n",
    "        \n",
    "        # Загружаем все эмбеддинги\n",
    "        embeddings = []\n",
    "        file_paths = []\n",
    "        \n",
    "        for pt_file in tqdm(pt_files, desc=\"Загрузка эмбеддингов\"):\n",
    "            try:\n",
    "                embedding = torch.load(pt_file, map_location='cpu')\n",
    "                \n",
    "                # Проверяем размерность\n",
    "                if embedding.dim() > 1:\n",
    "                    embedding = embedding.flatten()\n",
    "                \n",
    "                if embedding.shape[0] != self.dimension:\n",
    "                    print(f\"Пропускаем {pt_file}: неверная размерность {embedding.shape[0]} (ожидается {self.dimension})\")\n",
    "                    continue\n",
    "                \n",
    "                embeddings.append(embedding.numpy())\n",
    "                file_paths.append(str(pt_file.name))\n",
    "                \n",
    "            except Exception as e:\n",
    "                print(f\"Ошибка при загрузке {pt_file}: {e}\")\n",
    "                continue\n",
    "        \n",
    "        if not embeddings:\n",
    "            print(\"Не удалось загрузить ни одного эмбеддинга\")\n",
    "            return 0\n",
    "        \n",
    "        # Создаем индекс если его еще нет\n",
    "        if self.index is None:\n",
    "            self._create_index(len(embeddings))\n",
    "        \n",
    "        # Нормализуем эмбеддинги для cosine similarity\n",
    "        embeddings = np.array(embeddings, dtype=np.float32)\n",
    "        faiss.normalize_L2(embeddings)\n",
    "        \n",
    "        # Добавляем в индекс\n",
    "        if self.index_type == \"ivf\" and not self.index.is_trained:\n",
    "            print(\"Обучение IVF индекса...\")\n",
    "            self.index.train(embeddings)\n",
    "        \n",
    "        self.index.add(embeddings)\n",
    "        \n",
    "        # Сохраняем метаданные\n",
    "        for i, file_path in enumerate(file_paths):\n",
    "            current_id = self.next_id + i\n",
    "            self.id_to_path[current_id] = file_path\n",
    "            self.path_to_id[file_path] = current_id\n",
    "            \n",
    "            if metadata:\n",
    "                self.metadata[current_id] = metadata.get(file_path, {})\n",
    "            else:\n",
    "                self.metadata[current_id] = {\"file_path\": file_path}\n",
    "        \n",
    "        self.next_id += len(embeddings)\n",
    "        \n",
    "        print(f\"Добавлено {len(embeddings)} эмбеддингов в базу данных\")\n",
    "        return len(embeddings)\n",
    "    \n",
    "    def add_single_embedding(self, \n",
    "                           embedding: np.ndarray, \n",
    "                           file_path: str, \n",
    "                           metadata: Dict[str, any] = None) -> int:\n",
    "        \"\"\"\n",
    "        Добавляет один эмбеддинг в базу данных.\n",
    "        \n",
    "        Args:\n",
    "            embedding: Эмбеддинг как numpy массив\n",
    "            file_path: Путь к файлу эмбеддинга\n",
    "            metadata: Метаданные для эмбеддинга\n",
    "            \n",
    "        Returns:\n",
    "            ID добавленного эмбеддинга\n",
    "        \"\"\"\n",
    "        if embedding.shape[0] != self.dimension:\n",
    "            raise ValueError(f\"Неверная размерность эмбеддинга: {embedding.shape[0]} (ожидается {self.dimension})\")\n",
    "        \n",
    "        # Создаем индекс если его еще нет\n",
    "        if self.index is None:\n",
    "            self._create_index()\n",
    "        \n",
    "        # Нормализуем эмбеддинг\n",
    "        embedding = embedding.astype(np.float32).reshape(1, -1)\n",
    "        faiss.normalize_L2(embedding)\n",
    "        \n",
    "        # Добавляем в индекс\n",
    "        if self.index_type == \"ivf\" and not self.index.is_trained:\n",
    "            self.index.train(embedding)\n",
    "        \n",
    "        self.index.add(embedding)\n",
    "        \n",
    "        # Сохраняем метаданные\n",
    "        current_id = self.next_id\n",
    "        self.id_to_path[current_id] = Path(file_path).name\n",
    "        self.path_to_id[file_path] = current_id\n",
    "        self.metadata[current_id] = metadata or {\"file_path\": Path(file_path).name}\n",
    "        \n",
    "        self.next_id += 1\n",
    "        return current_id\n",
    "    \n",
    "    def search(self, \n",
    "               query_embedding: np.ndarray, \n",
    "               k: int = 5, \n",
    "               return_metadata: bool = True) -> List[Dict]:\n",
    "        \"\"\"\n",
    "        Ищет k ближайших соседей для запроса.\n",
    "        \n",
    "        Args:\n",
    "            query_embedding: Эмбеддинг запроса\n",
    "            k: Количество ближайших соседей\n",
    "            return_metadata: Возвращать ли метаданные\n",
    "            \n",
    "        Returns:\n",
    "            Список словарей с результатами поиска\n",
    "        \"\"\"\n",
    "        if self.index is None or self.index.ntotal == 0:\n",
    "            print(\"База данных пуста\")\n",
    "            return []\n",
    "        \n",
    "        if query_embedding.shape[0] != self.dimension:\n",
    "            raise ValueError(f\"Неверная размерность запроса: {query_embedding.shape[0]} (ожидается {self.dimension})\")\n",
    "        \n",
    "        # Нормализуем запрос\n",
    "        query_embedding = query_embedding.astype(np.float32).reshape(1, -1)\n",
    "        faiss.normalize_L2(query_embedding)\n",
    "        \n",
    "        # Выполняем поиск\n",
    "        distances, indices = self.index.search(query_embedding, min(k, self.index.ntotal))\n",
    "        \n",
    "        results = []\n",
    "        for i, (distance, idx) in enumerate(zip(distances[0], indices[0])):\n",
    "            if idx == -1:  # faiss возвращает -1 для несуществующих индексов\n",
    "                continue\n",
    "                \n",
    "            result = {\n",
    "                \"rank\": i + 1,\n",
    "                \"distance\": float(distance),\n",
    "                \"similarity\": float(distance),  # Для cosine similarity distance = similarity\n",
    "                \"id\": int(idx)\n",
    "            }\n",
    "            \n",
    "            if return_metadata:\n",
    "                result[\"file_path\"] = self.id_to_path.get(idx, \"unknown\")\n",
    "                result[\"metadata\"] = self.metadata.get(idx, {})\n",
    "            \n",
    "            results.append(result)\n",
    "        \n",
    "        return results\n",
    "    \n",
    "    def get_stats(self) -> Dict:\n",
    "        \"\"\"Возвращает статистику базы данных.\"\"\"\n",
    "        if self.index is None:\n",
    "            return {\"total_vectors\": 0, \"dimension\": self.dimension, \"index_type\": self.index_type}\n",
    "        \n",
    "        return {\n",
    "            \"total_vectors\": self.index.ntotal,\n",
    "            \"dimension\": self.dimension,\n",
    "            \"index_type\": self.index_type,\n",
    "            \"is_trained\": getattr(self.index, 'is_trained', True)\n",
    "        }\n",
    "    \n",
    "    def save_index(self, filepath: str):\n",
    "        \"\"\"Сохраняет индекс и метаданные в папку.\"\"\"\n",
    "        if self.index is None:\n",
    "            print(\"Нет данных для сохранения\")\n",
    "            return\n",
    "        \n",
    "        filepath = Path(filepath)\n",
    "        filepath.parent.mkdir(parents=True, exist_ok=True)\n",
    "        \n",
    "        # Сохраняем индекс\n",
    "        index_file = filepath / 'index.faiss'\n",
    "        faiss.write_index(self.index, str(index_file))\n",
    "        \n",
    "        # Сохраняем метаданные\n",
    "        metadata_file = filepath / 'metadata.pkl'\n",
    "        with open(metadata_file, 'wb') as f:\n",
    "            pickle.dump({\n",
    "                'metadata': self.metadata,\n",
    "                'id_to_path': self.id_to_path,\n",
    "                'path_to_id': self.path_to_id,\n",
    "                'next_id': self.next_id,\n",
    "                'dimension': self.dimension,\n",
    "                'index_type': self.index_type\n",
    "            }, f)\n",
    "        \n",
    "        print(f\"Индекс сохранен: {index_file}\")\n",
    "        print(f\"Метаданные сохранены: {metadata_file}\")\n",
    "    \n",
    "    def load_index(self, filepath: str):\n",
    "        \"\"\"Загружает индекс и метаданные из папки.\"\"\"\n",
    "        filepath = Path(filepath)\n",
    "        \n",
    "        # Загружаем индекс\n",
    "        index_file = filepath / 'index.faiss'\n",
    "        if not index_file.exists():\n",
    "            raise FileNotFoundError(f\"Файл индекса не найден: {index_file}\")\n",
    "        \n",
    "        self.index = faiss.read_index(str(index_file))\n",
    "        \n",
    "        # Загружаем метаданные\n",
    "        metadata_file = filepath / 'metadata.pkl'\n",
    "        if not metadata_file.exists():\n",
    "            raise FileNotFoundError(f\"Файл метаданных не найден: {metadata_file}\")\n",
    "        \n",
    "        with open(metadata_file, 'rb') as f:\n",
    "            data = pickle.load(f)\n",
    "            self.metadata = data['metadata']\n",
    "            self.id_to_path = data['id_to_path']\n",
    "            self.path_to_id = data['path_to_id']\n",
    "            self.next_id = data['next_id']\n",
    "            self.dimension = data['dimension']\n",
    "            self.index_type = data['index_type']\n",
    "        \n",
    "        print(f\"Индекс загружен: {index_file}\")\n",
    "        print(f\"Метаданные загружены: {metadata_file}\")\n",
    "        print(f\"Загружено {self.index.ntotal} векторов\")\n"
   ]
  },
  {
   "cell_type": "code",
   "execution_count": 3,
   "id": "fce5d640",
   "metadata": {},
   "outputs": [],
   "source": [
    "import pandas as pd\n",
    "\n",
    "metadata = pd.read_csv(\"/home/borntowarn/projects/chest-diseases/training/data/CT-RATE/dataset/multi_abnormality_labels/train_predicted_labels.csv\")\n",
    "metadata = {\n",
    "    row['VolumeName'].replace('.gz', '.pt'): list(row.iloc[1:]) + [0, 0]\n",
    "    for i, row in metadata.iterrows()\n",
    "}\n",
    "\n"
   ]
  },
  {
   "cell_type": "code",
   "execution_count": 4,
   "id": "d9a986c3",
   "metadata": {},
   "outputs": [],
   "source": [
    "val_metadata = pd.read_csv(\"/home/borntowarn/projects/chest-diseases/training/data/CT-RATE/dataset/multi_abnormality_labels/valid_predicted_labels.csv\")\n",
    "metadata.update({\n",
    "    row['VolumeName'].replace('.gz', '.pt'): list(row.iloc[1:]) + [0, 0]\n",
    "    for i, row in val_metadata.iterrows()\n",
    "})\n"
   ]
  },
  {
   "cell_type": "code",
   "execution_count": 3,
   "id": "b92cae19",
   "metadata": {},
   "outputs": [],
   "source": [
    "db = FaissDatabase(dimension=512, index_type=\"flat\")"
   ]
  },
  {
   "cell_type": "code",
   "execution_count": 4,
   "id": "0b5e9edb",
   "metadata": {},
   "outputs": [
    {
     "name": "stdout",
     "output_type": "stream",
     "text": [
      "Индекс загружен: /home/borntowarn/projects/chest-diseases/training/weights/faiss_database/train/index.faiss\n",
      "Метаданные загружены: /home/borntowarn/projects/chest-diseases/training/weights/faiss_database/train/metadata.pkl\n",
      "Загружено 48825 векторов\n"
     ]
    }
   ],
   "source": [
    "db.load_index('/home/borntowarn/projects/chest-diseases/training/weights/faiss_database/train')"
   ]
  },
  {
   "cell_type": "code",
   "execution_count": 16,
   "id": "c91ff346",
   "metadata": {},
   "outputs": [
    {
     "name": "stdout",
     "output_type": "stream",
     "text": [
      "Найдено 3039 файлов эмбеддингов\n"
     ]
    },
    {
     "name": "stderr",
     "output_type": "stream",
     "text": [
      "Загрузка эмбеддингов: 100%|██████████| 3039/3039 [00:02<00:00, 1275.14it/s]\n"
     ]
    },
    {
     "name": "stdout",
     "output_type": "stream",
     "text": [
      "Добавлено 3039 эмбеддингов в базу данных\n",
      "Добавлено 3039 эмбеддингов\n"
     ]
    }
   ],
   "source": [
    "# Пример использования FaissDatabase\n",
    "\n",
    "embeddings_dir = \"/home/borntowarn/projects/chest-diseases/training/data/CT-RATE/dataset/valid_fixed_embeds_not_normalized_lipro\"\n",
    "\n",
    "num_added = db.add_embeddings_from_files(embeddings_dir, metadata)\n",
    "print(f\"Добавлено {num_added} эмбеддингов\")"
   ]
  },
  {
   "cell_type": "code",
   "execution_count": 18,
   "id": "6e5be5d6",
   "metadata": {},
   "outputs": [],
   "source": [
    "# Добавляем эмбеддинги из MosMed\n",
    "\n",
    "mosmed_embeds_path = '/home/borntowarn/projects/chest-diseases/training/notebooks/preprocessed_mosmed/train_data.pt'\n",
    "mosmed_labels_path = '/home/borntowarn/projects/chest-diseases/training/notebooks/preprocessed_mosmed/train_labels.pt'\n",
    "\n",
    "mosmed_embeds1 = torch.load(mosmed_embeds_path)  # shape: (N, D)\n",
    "mosmed_labels1 = torch.load(mosmed_labels_path)  # shape: (N, ...)\n",
    "\n",
    "mosmed_embeds_path = '/home/borntowarn/projects/chest-diseases/training/notebooks/preprocessed_mosmed/test_data.pt'\n",
    "mosmed_labels_path = '/home/borntowarn/projects/chest-diseases/training/notebooks/preprocessed_mosmed/test_labels.pt'\n",
    "\n",
    "mosmed_embeds2 = torch.load(mosmed_embeds_path)  # shape: (N, D)\n",
    "mosmed_labels2 = torch.load(mosmed_labels_path)  # shape: (N, ...)\n",
    "\n",
    "mosmed_embeds_path = '/home/borntowarn/projects/chest-diseases/training/notebooks/preprocessed_mosmed/val_data.pt'\n",
    "mosmed_labels_path = '/home/borntowarn/projects/chest-diseases/training/notebooks/preprocessed_mosmed/val_labels.pt'\n",
    "\n",
    "mosmed_embeds3 = torch.load(mosmed_embeds_path)  # shape: (N, D)\n",
    "mosmed_labels3 = torch.load(mosmed_labels_path)  # shape: (N, ...)\n",
    "\n",
    "mosmed_embeds = torch.cat([mosmed_embeds1, mosmed_embeds2, mosmed_embeds3], dim=0)\n",
    "mosmed_labels = torch.cat([mosmed_labels1, mosmed_labels2, mosmed_labels3], dim=0)\n",
    "\n",
    "# Преобразуем лейблы к спискам, если это тензор\n",
    "if isinstance(mosmed_labels, torch.Tensor):\n",
    "    mosmed_labels = mosmed_labels.tolist()"
   ]
  },
  {
   "cell_type": "code",
   "execution_count": 21,
   "id": "cf28fe61",
   "metadata": {},
   "outputs": [
    {
     "name": "stdout",
     "output_type": "stream",
     "text": [
      "Добавлено 1866 эмбеддингов из MosMed\n"
     ]
    }
   ],
   "source": [
    "# Добавляем эмбеддинги и лейблы в базу\n",
    "added = 0\n",
    "for i in range(len(mosmed_embeds)):\n",
    "    emb = mosmed_embeds[i]\n",
    "    label = mosmed_labels[i]\n",
    "    db.add_single_embedding(emb.numpy(), file_path=f'mosmed_{i}.pt', metadata=label)\n",
    "    added += 1\n",
    "\n",
    "print(f\"Добавлено {added} эмбеддингов из MosMed\")"
   ]
  },
  {
   "cell_type": "code",
   "execution_count": 23,
   "id": "d7863e40",
   "metadata": {},
   "outputs": [
    {
     "name": "stdout",
     "output_type": "stream",
     "text": [
      "Индекс сохранен: /home/borntowarn/projects/chest-diseases/training/notebooks/faiss_database_all.faiss\n",
      "Метаданные сохранены: /home/borntowarn/projects/chest-diseases/training/notebooks/faiss_database_all.metadata.pkl\n"
     ]
    }
   ],
   "source": [
    "db.save_index('/home/borntowarn/projects/chest-diseases/training/notebooks/faiss_database_all')"
   ]
  },
  {
   "cell_type": "code",
   "execution_count": 22,
   "id": "8339984a",
   "metadata": {},
   "outputs": [
    {
     "name": "stdout",
     "output_type": "stream",
     "text": [
      "Статистика базы данных: {'total_vectors': 52051, 'dimension': 512, 'index_type': 'flat', 'is_trained': True}\n"
     ]
    }
   ],
   "source": [
    "# 3. Получаем статистику\n",
    "stats = db.get_stats()\n",
    "print(f\"Статистика базы данных: {stats}\")"
   ]
  },
  {
   "cell_type": "markdown",
   "id": "eedf0d44",
   "metadata": {},
   "source": [
    "# CT - RATE"
   ]
  },
  {
   "cell_type": "code",
   "execution_count": 51,
   "id": "6bfcc9f9",
   "metadata": {},
   "outputs": [
    {
     "name": "stderr",
     "output_type": "stream",
     "text": [
      "3039it [01:01, 49.47it/s]\n"
     ]
    }
   ],
   "source": [
    "import pandas as pd\n",
    "results = {}\n",
    "k = 30\n",
    "\n",
    "metadata = pd.read_csv(\"/home/borntowarn/projects/chest-diseases/training/data/CT-RATE/dataset/multi_abnormality_labels/valid_predicted_labels.csv\")\n",
    "y_true = [int(any(list(row.iloc[1:]))) for i, row in metadata.iterrows()]\n",
    "\n",
    "for file in tqdm(Path('/home/borntowarn/projects/chest-diseases/training/data/CT-RATE/dataset/valid_fixed_embeds_not_normalized_lipro').rglob('*.pt')):\n",
    "    random_embedding = torch.load(file).flatten().numpy()\n",
    "    results[file.name.replace('.pt', '.gz')] = db.search(random_embedding, k=30)"
   ]
  },
  {
   "cell_type": "code",
   "execution_count": 52,
   "id": "9284c1e8",
   "metadata": {},
   "outputs": [],
   "source": [
    "# Для вероятности принадлежности к классу 1 можно взять отношение total_true / k для каждого результата\n",
    "y_proba = []\n",
    "for i, row in metadata.iterrows():\n",
    "    result = results[row['VolumeName']]\n",
    "    total_true = sum(1 for r in result if any(r['metadata']))\n",
    "    proba = total_true / k\n",
    "    y_proba.append(proba)\n",
    "\n",
    "# Вероятность принадлежности к классу 0 — это 1 - proba\n",
    "y_proba_0 = [1 - p for p in y_proba]\n",
    "y_proba_1 = y_proba\n"
   ]
  },
  {
   "cell_type": "code",
   "execution_count": 57,
   "id": "d7af479f",
   "metadata": {},
   "outputs": [
    {
     "name": "stdout",
     "output_type": "stream",
     "text": [
      "roc_auc_score 0.776\n",
      "pr_auc_score 0.964\n",
      "f1_score 0.908\n",
      "accuracy_score 0.839\n",
      "precision_score 0.915\n",
      "recall_score 0.902\n",
      "sensitivity (recall) 0.902\n",
      "specificity 0.347\n"
     ]
    }
   ],
   "source": [
    "from sklearn.metrics import roc_auc_score, precision_recall_curve, f1_score, accuracy_score, precision_score, recall_score, confusion_matrix, auc\n",
    "print('roc_auc_score', round(roc_auc_score(y_true, y_proba), 3))\n",
    "y, x, t = precision_recall_curve(y_true, y_proba)\n",
    "print('pr_auc_score', round(auc(x, y), 3))\n",
    "\n",
    "y_pred = [1 if p >= 0.7 else 0 for p in y_proba]\n",
    "\n",
    "print('f1_score', round(f1_score(y_true, y_pred), 3))\n",
    "print('accuracy_score', round(accuracy_score(y_true, y_pred), 3))\n",
    "print('precision_score', round(precision_score(y_true, y_pred), 3))\n",
    "print('recall_score', round(recall_score(y_true, y_pred), 3))\n",
    "\n",
    "# Подсчет sensitivity (чувствительность) и specificity (специфичность)\n",
    "cm = confusion_matrix(y_true, y_pred)\n",
    "tn, fp, fn, tp = cm.ravel()\n",
    "sensitivity = tp / (tp + fn) if (tp + fn) > 0 else 0\n",
    "specificity = tn / (tn + fp) if (tn + fp) > 0 else 0\n",
    "print('sensitivity (recall)', round(sensitivity, 3))\n",
    "print('specificity', round(specificity, 3))\n"
   ]
  },
  {
   "cell_type": "markdown",
   "id": "be9f1b73",
   "metadata": {},
   "source": [
    "# MosMed"
   ]
  },
  {
   "cell_type": "code",
   "execution_count": 48,
   "id": "27e0b4a8",
   "metadata": {},
   "outputs": [
    {
     "name": "stderr",
     "output_type": "stream",
     "text": [
      "  0%|          | 0/94 [00:00<?, ?it/s]"
     ]
    },
    {
     "name": "stderr",
     "output_type": "stream",
     "text": [
      "100%|██████████| 94/94 [00:01<00:00, 55.84it/s]\n"
     ]
    }
   ],
   "source": [
    "results = []\n",
    "k = 30\n",
    "\n",
    "embs = torch.load('/home/borntowarn/projects/chest-diseases/training/notebooks/preprocessed_mosmed/test_data.pt')\n",
    "lbls = torch.load('/home/borntowarn/projects/chest-diseases/training/notebooks/preprocessed_mosmed/test_labels.pt')\n",
    "y_true = [int(any(lbl)) for lbl in lbls.tolist()]\n",
    "\n",
    "for emb in tqdm(embs):\n",
    "    results.append(db.search(emb.numpy(), k=k))"
   ]
  },
  {
   "cell_type": "code",
   "execution_count": 49,
   "id": "9bf9b163",
   "metadata": {},
   "outputs": [],
   "source": [
    "# Для вероятности принадлежности к классу 1 можно взять отношение total_true / k для каждого результата\n",
    "y_proba = []\n",
    "for result in results:\n",
    "    total_true = sum(1 for r in result if any(r['metadata']))\n",
    "    proba = total_true / k\n",
    "    y_proba.append(proba)\n",
    "\n",
    "# Вероятность принадлежности к классу 0 — это 1 - proba\n",
    "y_proba_0 = [1 - p for p in y_proba]\n",
    "y_proba_1 = y_proba\n"
   ]
  },
  {
   "cell_type": "code",
   "execution_count": 50,
   "id": "aa9530bd",
   "metadata": {},
   "outputs": [
    {
     "name": "stdout",
     "output_type": "stream",
     "text": [
      "roc_auc_score 0.713\n",
      "pr_auc_score 0.9\n",
      "f1_score 0.8\n",
      "accuracy_score 0.702\n",
      "precision_score 0.836\n",
      "recall_score 0.767\n",
      "sensitivity (recall) 0.767\n",
      "specificity 0.476\n"
     ]
    }
   ],
   "source": [
    "from sklearn.metrics import roc_auc_score, precision_recall_curve, f1_score, accuracy_score, precision_score, recall_score, confusion_matrix\n",
    "print('roc_auc_score', round(roc_auc_score(y_true, y_proba), 3))\n",
    "y, x, t = precision_recall_curve(y_true, y_proba)\n",
    "print('pr_auc_score', round(auc(x, y), 3))\n",
    "\n",
    "y_pred = [1 if p >= 0.8 else 0 for p in y_proba]\n",
    "\n",
    "print('f1_score', round(f1_score(y_true, y_pred), 3))\n",
    "print('accuracy_score', round(accuracy_score(y_true, y_pred), 3))\n",
    "print('precision_score', round(precision_score(y_true, y_pred), 3))\n",
    "print('recall_score', round(recall_score(y_true, y_pred), 3))\n",
    "\n",
    "# Подсчет sensitivity (чувствительность) и specificity (специфичность)\n",
    "cm = confusion_matrix(y_true, y_pred)\n",
    "tn, fp, fn, tp = cm.ravel()\n",
    "sensitivity = tp / (tp + fn) if (tp + fn) > 0 else 0\n",
    "specificity = tn / (tn + fp) if (tn + fp) > 0 else 0\n",
    "print('sensitivity (recall)', round(sensitivity, 3))\n",
    "print('specificity', round(specificity, 3))\n"
   ]
  }
 ],
 "metadata": {
  "kernelspec": {
   "display_name": "Python 3",
   "language": "python",
   "name": "python3"
  },
  "language_info": {
   "codemirror_mode": {
    "name": "ipython",
    "version": 3
   },
   "file_extension": ".py",
   "mimetype": "text/x-python",
   "name": "python",
   "nbconvert_exporter": "python",
   "pygments_lexer": "ipython3",
   "version": "3.11.13"
  }
 },
 "nbformat": 4,
 "nbformat_minor": 5
}

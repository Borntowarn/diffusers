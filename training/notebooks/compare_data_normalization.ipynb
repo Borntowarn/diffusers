{
 "cells": [
  {
   "cell_type": "code",
   "execution_count": 1,
   "id": "911ddc15",
   "metadata": {},
   "outputs": [],
   "source": [
    "import nibabel as nib\n",
    "import numpy as np\n",
    "import pandas as pd\n",
    "import SimpleITK as sitk\n",
    "\n",
    "# Пути к двум сравниваемым .nii.gz файлам\n",
    "file1_path = '/home/borntowarn/projects/chest-diseases/training/data/CT-RATE/dataset/valid/valid_1/valid_1_a/valid_1_a_1.nii.gz'\n",
    "file2_path = '/home/borntowarn/projects/chest-diseases/training/data/CT-RATE/dataset/valid_fixed/valid_1/valid_1_a/valid_1_a_1.nii.gz'\n",
    "\n",
    "# Загрузка данных из nii.gz файлов\n",
    "img1 = sitk.ReadImage(file1_path)\n",
    "img2 = sitk.ReadImage(file2_path)\n",
    "\n",
    "metadata_path = '/home/borntowarn/projects/chest-diseases/training/data/CT-RATE/dataset/metadata/validation_metadata.csv'\n",
    "metadata = pd.read_csv(metadata_path)"
   ]
  },
  {
   "cell_type": "code",
   "execution_count": 2,
   "id": "adbfeb60",
   "metadata": {},
   "outputs": [
    {
     "data": {
      "text/html": [
       "<div>\n",
       "<style scoped>\n",
       "    .dataframe tbody tr th:only-of-type {\n",
       "        vertical-align: middle;\n",
       "    }\n",
       "\n",
       "    .dataframe tbody tr th {\n",
       "        vertical-align: top;\n",
       "    }\n",
       "\n",
       "    .dataframe thead th {\n",
       "        text-align: right;\n",
       "    }\n",
       "</style>\n",
       "<table border=\"1\" class=\"dataframe\">\n",
       "  <thead>\n",
       "    <tr style=\"text-align: right;\">\n",
       "      <th></th>\n",
       "      <th>VolumeName</th>\n",
       "      <th>Manufacturer</th>\n",
       "      <th>SeriesDescription</th>\n",
       "      <th>ManufacturerModelName</th>\n",
       "      <th>PatientSex</th>\n",
       "      <th>PatientAge</th>\n",
       "      <th>ReconstructionDiameter</th>\n",
       "      <th>DistanceSourceToDetector</th>\n",
       "      <th>DistanceSourceToPatient</th>\n",
       "      <th>GantryDetectorTilt</th>\n",
       "      <th>...</th>\n",
       "      <th>PhotometricInterpretation</th>\n",
       "      <th>Rows</th>\n",
       "      <th>Columns</th>\n",
       "      <th>XYSpacing</th>\n",
       "      <th>RescaleIntercept</th>\n",
       "      <th>RescaleSlope</th>\n",
       "      <th>RescaleType</th>\n",
       "      <th>NumberofSlices</th>\n",
       "      <th>ZSpacing</th>\n",
       "      <th>StudyDate</th>\n",
       "    </tr>\n",
       "  </thead>\n",
       "  <tbody>\n",
       "    <tr>\n",
       "      <th>0</th>\n",
       "      <td>valid_1_a_1.nii.gz</td>\n",
       "      <td>Philips</td>\n",
       "      <td>HRCT</td>\n",
       "      <td>iCT 256</td>\n",
       "      <td>M</td>\n",
       "      <td>036Y</td>\n",
       "      <td>350.0</td>\n",
       "      <td>NaN</td>\n",
       "      <td>NaN</td>\n",
       "      <td>0</td>\n",
       "      <td>...</td>\n",
       "      <td>MONOCHROME2</td>\n",
       "      <td>1024</td>\n",
       "      <td>1024</td>\n",
       "      <td>[0.341796875, 0.341796875]</td>\n",
       "      <td>-1024</td>\n",
       "      <td>1</td>\n",
       "      <td>NaN</td>\n",
       "      <td>251</td>\n",
       "      <td>1.5</td>\n",
       "      <td>20210427</td>\n",
       "    </tr>\n",
       "  </tbody>\n",
       "</table>\n",
       "<p>1 rows × 44 columns</p>\n",
       "</div>"
      ],
      "text/plain": [
       "           VolumeName Manufacturer SeriesDescription ManufacturerModelName  \\\n",
       "0  valid_1_a_1.nii.gz      Philips              HRCT               iCT 256   \n",
       "\n",
       "  PatientSex PatientAge  ReconstructionDiameter  DistanceSourceToDetector  \\\n",
       "0          M       036Y                   350.0                       NaN   \n",
       "\n",
       "   DistanceSourceToPatient  GantryDetectorTilt  ...  \\\n",
       "0                      NaN                   0  ...   \n",
       "\n",
       "   PhotometricInterpretation  Rows  Columns                   XYSpacing  \\\n",
       "0                MONOCHROME2  1024     1024  [0.341796875, 0.341796875]   \n",
       "\n",
       "   RescaleIntercept RescaleSlope  RescaleType NumberofSlices ZSpacing  \\\n",
       "0             -1024            1          NaN            251      1.5   \n",
       "\n",
       "  StudyDate  \n",
       "0  20210427  \n",
       "\n",
       "[1 rows x 44 columns]"
      ]
     },
     "execution_count": 2,
     "metadata": {},
     "output_type": "execute_result"
    }
   ],
   "source": [
    "row = metadata[metadata['VolumeName'] == file1_path.split('/')[-1]]\n",
    "row"
   ]
  },
  {
   "cell_type": "code",
   "execution_count": 3,
   "id": "d0d372bf",
   "metadata": {},
   "outputs": [],
   "source": [
    "import ast\n",
    "\n",
    "# Set Spacing\n",
    "(x, y), z = map(float, ast.literal_eval(row['XYSpacing'].iloc[0])), row['ZSpacing'].iloc[0]\n",
    "img1.SetSpacing((x,y,z))\n",
    "\n",
    "# Set Origin\n",
    "img1.SetOrigin(ast.literal_eval(row['ImagePositionPatient'].iloc[0]))\n",
    "\n",
    "# Set Direction\n",
    "orientation = ast.literal_eval(row['ImageOrientationPatient'].iloc[0])\n",
    "row_cosine, col_cosine = orientation[:3], orientation[3:6]\n",
    "z_cosine = np.cross(row_cosine, col_cosine).tolist()\n",
    "img1.SetDirection(row_cosine + col_cosine + z_cosine)\n",
    "\n",
    "# Fix Rescale\n",
    "RescaleIntercept = row['RescaleIntercept'].iloc[0]\n",
    "RescaleSlope = row['RescaleSlope'].iloc[0]\n",
    "adjusted_hu = img1 * RescaleSlope + RescaleIntercept\n",
    "\n",
    "# Convert the image to int16\n",
    "adjusted_hu = sitk.Cast(adjusted_hu, sitk.sitkInt16)\n"
   ]
  },
  {
   "cell_type": "code",
   "execution_count": 4,
   "id": "18d2247a",
   "metadata": {},
   "outputs": [
    {
     "data": {
      "text/plain": [
       "True"
      ]
     },
     "execution_count": 4,
     "metadata": {},
     "output_type": "execute_result"
    }
   ],
   "source": [
    "np.allclose(sitk.GetArrayFromImage(adjusted_hu), sitk.GetArrayFromImage(img2))"
   ]
  }
 ],
 "metadata": {
  "kernelspec": {
   "display_name": "Python 3",
   "language": "python",
   "name": "python3"
  },
  "language_info": {
   "codemirror_mode": {
    "name": "ipython",
    "version": 3
   },
   "file_extension": ".py",
   "mimetype": "text/x-python",
   "name": "python",
   "nbconvert_exporter": "python",
   "pygments_lexer": "ipython3",
   "version": "3.11.13"
  }
 },
 "nbformat": 4,
 "nbformat_minor": 5
}

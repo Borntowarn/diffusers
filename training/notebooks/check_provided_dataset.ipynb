{
 "cells": [
  {
   "cell_type": "code",
   "execution_count": 28,
   "id": "b8905fb6",
   "metadata": {},
   "outputs": [],
   "source": [
    "import pandas as pd\n",
    "import seaborn as sns \n",
    "import matplotlib.pyplot as plt\n",
    "import torch\n",
    "import subprocess\n",
    "import numpy as np\n",
    "from torchmetrics import PrecisionRecallCurve, F1Score, ConfusionMatrix, Precision, Recall\n",
    "from typing import List, Any\n",
    "from torcheval.metrics.functional import binary_auprc, binary_auroc\n",
    "from collections import defaultdict\n",
    "import torch.nn as nn"
   ]
  },
  {
   "cell_type": "code",
   "execution_count": 29,
   "id": "63cf754d",
   "metadata": {},
   "outputs": [],
   "source": [
    "class MLP(nn.Module):\n",
    "    def __init__(\n",
    "            self,\n",
    "            input_size=512,\n",
    "            num_classes=18,\n",
    "            activation='relu',\n",
    "            hidden_sizes=[1024, 2048, 1024, 256, 128],\n",
    "            dropout=0.1\n",
    "        ):\n",
    "        super().__init__()\n",
    "        \n",
    "        # Pick activation\n",
    "        if activation == \"relu\":\n",
    "            activation_cls = nn.ReLU\n",
    "        elif activation == \"leaky_relu\":\n",
    "            activation_cls = nn.LeakyReLU\n",
    "        elif activation == \"gelu\":\n",
    "            activation_cls = nn.GELU\n",
    "        else:\n",
    "            raise ValueError(f\"Unsupported activation: {activation}\")\n",
    "\n",
    "        layers = []\n",
    "        in_dim = input_size\n",
    "        for h in hidden_sizes:\n",
    "            layers.append(nn.Linear(in_dim, h))\n",
    "            layers.append(nn.BatchNorm1d(h))  # helps stabilize\n",
    "            layers.append(activation_cls())\n",
    "            layers.append(nn.Dropout(dropout))\n",
    "            in_dim = h\n",
    "\n",
    "        # Final classification layer\n",
    "        layers.append(nn.Linear(in_dim, num_classes))\n",
    "\n",
    "        self.layers = nn.Sequential(*layers)\n",
    "\n",
    "    def forward(self, x):\n",
    "        return self.layers(x)\n",
    "    \n",
    "model = MLP(\n",
    "    input_size=512,\n",
    "    activation='gelu',\n",
    "    dropout=0.1,\n",
    "    num_classes=2,\n",
    ")"
   ]
  },
  {
   "cell_type": "code",
   "execution_count": 30,
   "id": "1ece1712",
   "metadata": {},
   "outputs": [
    {
     "data": {
      "text/plain": [
       "<All keys matched successfully>"
      ]
     },
     "execution_count": 30,
     "metadata": {},
     "output_type": "execute_result"
    }
   ],
   "source": [
    "# state_dict = torch.load('/home/free4ky/projects/chest-diseases/model_binary_ctrate_mosmed_base.pth')\n",
    "# state_dict = torch.load('/home/free4ky/projects/chest-diseases/model_binary_ctrate_mosmed2.pth')\n",
    "state_dict = torch.load('/home/free4ky/projects/chest-diseases/model_binary_ctrate_mosmed_test1.pth')\n",
    "\n",
    "model.load_state_dict(state_dict)"
   ]
  },
  {
   "cell_type": "code",
   "execution_count": 31,
   "id": "456c22a9",
   "metadata": {},
   "outputs": [
    {
     "data": {
      "text/plain": [
       "MLP(\n",
       "  (layers): Sequential(\n",
       "    (0): Linear(in_features=512, out_features=1024, bias=True)\n",
       "    (1): BatchNorm1d(1024, eps=1e-05, momentum=0.1, affine=True, track_running_stats=True)\n",
       "    (2): GELU(approximate='none')\n",
       "    (3): Dropout(p=0.1, inplace=False)\n",
       "    (4): Linear(in_features=1024, out_features=2048, bias=True)\n",
       "    (5): BatchNorm1d(2048, eps=1e-05, momentum=0.1, affine=True, track_running_stats=True)\n",
       "    (6): GELU(approximate='none')\n",
       "    (7): Dropout(p=0.1, inplace=False)\n",
       "    (8): Linear(in_features=2048, out_features=1024, bias=True)\n",
       "    (9): BatchNorm1d(1024, eps=1e-05, momentum=0.1, affine=True, track_running_stats=True)\n",
       "    (10): GELU(approximate='none')\n",
       "    (11): Dropout(p=0.1, inplace=False)\n",
       "    (12): Linear(in_features=1024, out_features=256, bias=True)\n",
       "    (13): BatchNorm1d(256, eps=1e-05, momentum=0.1, affine=True, track_running_stats=True)\n",
       "    (14): GELU(approximate='none')\n",
       "    (15): Dropout(p=0.1, inplace=False)\n",
       "    (16): Linear(in_features=256, out_features=128, bias=True)\n",
       "    (17): BatchNorm1d(128, eps=1e-05, momentum=0.1, affine=True, track_running_stats=True)\n",
       "    (18): GELU(approximate='none')\n",
       "    (19): Dropout(p=0.1, inplace=False)\n",
       "    (20): Linear(in_features=128, out_features=2, bias=True)\n",
       "  )\n",
       ")"
      ]
     },
     "execution_count": 31,
     "metadata": {},
     "output_type": "execute_result"
    }
   ],
   "source": [
    "model.eval()\n",
    "model.to('cuda')"
   ]
  },
  {
   "cell_type": "code",
   "execution_count": 32,
   "id": "fff9cbb9",
   "metadata": {},
   "outputs": [],
   "source": [
    "from  torch.utils.data import TensorDataset, DataLoader\n",
    "\n",
    "mosmed_ds = TensorDataset(\n",
    "    torch.cat([\n",
    "        torch.load('/home/free4ky/projects/chest-diseases/test_embs/norma_anon_lipro.pt').unsqueeze(0),\n",
    "        torch.load('/home/free4ky/projects/chest-diseases/test_embs/pneumonia_anon_lipro.pt').unsqueeze(0),\n",
    "        torch.load('/home/free4ky/projects/chest-diseases/test_embs/pneumotorax_anon_lipro.pt').unsqueeze(0)\n",
    "    ],\n",
    "    dim=0)\n",
    ")\n",
    "mosmed_dl = DataLoader(\n",
    "    mosmed_ds,\n",
    "    batch_size=1,\n",
    "    shuffle=False\n",
    ")\n"
   ]
  },
  {
   "cell_type": "code",
   "execution_count": 33,
   "id": "2d33a5fa",
   "metadata": {},
   "outputs": [
    {
     "data": {
      "text/plain": [
       "torch.Size([3, 512])"
      ]
     },
     "execution_count": 33,
     "metadata": {},
     "output_type": "execute_result"
    }
   ],
   "source": [
    "mosmed_ds.tensors[0].shape"
   ]
  },
  {
   "cell_type": "code",
   "execution_count": 34,
   "id": "837aaa8f",
   "metadata": {},
   "outputs": [
    {
     "name": "stderr",
     "output_type": "stream",
     "text": [
      "/tmp/ipykernel_234156/1795829843.py:7: UserWarning: Implicit dimension choice for softmax has been deprecated. Change the call to include dim=X as an argument.\n",
      "  probs = nn.functional.softmax(logits)\n"
     ]
    },
    {
     "data": {
      "text/plain": [
       "[0.8047426342964172, 0.9958354234695435, 0.575995922088623]"
      ]
     },
     "execution_count": 34,
     "metadata": {},
     "output_type": "execute_result"
    }
   ],
   "source": [
    "patalogy_probs = []\n",
    "with torch.no_grad():\n",
    "    for emb in mosmed_dl:\n",
    "        x = torch.nn.functional.normalize(emb[0], dim=-1)\n",
    "        x = x.to('cuda')\n",
    "        logits = model(x)\n",
    "        probs = nn.functional.softmax(logits)\n",
    "        patalogy_probs.append(probs[0][-1].cpu().item())\n",
    "patalogy_probs\n",
    "# patalogy_probs = []\n",
    "# with torch.no_grad():\n",
    "#     for emb in mosmed_dl:\n",
    "#         x = torch.nn.functional.normalize(emb[0], dim=-1)\n",
    "#         x = x.to('cuda')\n",
    "#         logits = model(x)\n",
    "#         # probs = nn.functional.softmax(logits)\n",
    "#         probs = torch.sigmoid(logits) \n",
    "#         patalogy_probs.append(probs.cpu())\n",
    "# patalogy_probs"
   ]
  },
  {
   "cell_type": "code",
   "execution_count": 22,
   "id": "a8349d4b",
   "metadata": {},
   "outputs": [
    {
     "data": {
      "text/plain": [
       "0.10    0.731108\n",
       "0.25    0.967450\n",
       "0.75    0.999410\n",
       "0.90    0.999857\n",
       "dtype: float64"
      ]
     },
     "execution_count": 22,
     "metadata": {},
     "output_type": "execute_result"
    }
   ],
   "source": [
    "s = pd.Series(patalogy_probs)\n",
    "s.quantile([0.1,.25,.75,.9])"
   ]
  },
  {
   "cell_type": "code",
   "execution_count": 23,
   "id": "c33f657c",
   "metadata": {},
   "outputs": [
    {
     "data": {
      "text/plain": [
       "19      0.110620\n",
       "26      0.045772\n",
       "30      0.331867\n",
       "37      0.069041\n",
       "46      0.490368\n",
       "          ...   \n",
       "1848    0.439804\n",
       "1871    0.448998\n",
       "1873    0.307171\n",
       "1878    0.457991\n",
       "1903    0.267192\n",
       "Length: 119, dtype: float64"
      ]
     },
     "execution_count": 23,
     "metadata": {},
     "output_type": "execute_result"
    }
   ],
   "source": [
    "s[s<0.5]"
   ]
  },
  {
   "cell_type": "code",
   "execution_count": null,
   "id": "7fa7a791",
   "metadata": {},
   "outputs": [],
   "source": []
  }
 ],
 "metadata": {
  "kernelspec": {
   "display_name": "Python 3",
   "language": "python",
   "name": "python3"
  },
  "language_info": {
   "codemirror_mode": {
    "name": "ipython",
    "version": 3
   },
   "file_extension": ".py",
   "mimetype": "text/x-python",
   "name": "python",
   "nbconvert_exporter": "python",
   "pygments_lexer": "ipython3",
   "version": "3.12.11"
  }
 },
 "nbformat": 4,
 "nbformat_minor": 5
}

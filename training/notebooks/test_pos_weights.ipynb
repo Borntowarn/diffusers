{
 "cells": [
  {
   "cell_type": "code",
   "execution_count": 1,
   "id": "fd2641bf",
   "metadata": {},
   "outputs": [],
   "source": [
    "import torch\n",
    "from  torch.utils.data import TensorDataset, DataLoader\n"
   ]
  },
  {
   "cell_type": "code",
   "execution_count": null,
   "id": "99f1054e",
   "metadata": {},
   "outputs": [],
   "source": []
  },
  {
   "cell_type": "code",
   "execution_count": 3,
   "id": "efeab70e",
   "metadata": {},
   "outputs": [
    {
     "name": "stdout",
     "output_type": "stream",
     "text": [
      "torch.Size([49012, 20])\n"
     ]
    }
   ],
   "source": [
    "# X1=torch.load('/home/free4ky/projects/chest-diseases/data/preprocessed_train/train_data.pt')\n",
    "Y1=torch.load('/home/free4ky/projects/chest-diseases/data/preprocessed_train_20/train_labels.pt')\n",
    "Y2=torch.load('/home/free4ky/projects/chest-diseases/data/preprocessed_train_20/val_labels.pt')\n",
    "Y3=torch.load('/home/free4ky/projects/chest-diseases/data/preprocessed_mosmed/test_labels.pt')\n",
    "Y4=torch.load('/home/free4ky/projects/chest-diseases/data/preprocessed_mosmed/train_labels.pt')\n",
    "Y5=torch.load('/home/free4ky/projects/chest-diseases/data/preprocessed_mosmed/val_labels.pt')\n",
    "\n",
    "# X = torch.concat([X1,X2,X3],dim=0)\n",
    "Y = torch.concat([Y1,Y2,Y3,Y4,Y5],dim=0)\n",
    "print(Y.shape)"
   ]
  },
  {
   "cell_type": "code",
   "execution_count": 5,
   "id": "cd4c01f7",
   "metadata": {},
   "outputs": [],
   "source": [
    "\n",
    "ds = TensorDataset(\n",
    "        Y\n",
    ")\n",
    "dl = DataLoader(\n",
    "    ds,\n",
    "    batch_size=1,\n",
    "    shuffle=False\n",
    ")\n"
   ]
  },
  {
   "cell_type": "code",
   "execution_count": 6,
   "id": "9f1f7eb0",
   "metadata": {},
   "outputs": [
    {
     "data": {
      "text/plain": [
       "torch.Size([49012, 20])"
      ]
     },
     "execution_count": 6,
     "metadata": {},
     "output_type": "execute_result"
    }
   ],
   "source": [
    "ds.tensors[0].shape"
   ]
  },
  {
   "cell_type": "code",
   "execution_count": 7,
   "id": "626a6af7",
   "metadata": {},
   "outputs": [],
   "source": [
    "def compute_pos_weights(labels: torch.Tensor) -> torch.Tensor:\n",
    "    \"\"\"\n",
    "    Compute pos_weight values for BCEWithLogitsLoss given multilabel dataset.\n",
    "    \n",
    "    Args:\n",
    "        labels (torch.Tensor): shape [num_samples, num_classes], binary (0/1).\n",
    "    \n",
    "    Returns:\n",
    "        torch.Tensor: pos_weight for each class, shape [num_classes].\n",
    "    \"\"\"\n",
    "    num_samples, num_classes = labels.shape\n",
    "    \n",
    "    # count positives and negatives per class\n",
    "    pos_counts = labels.sum(dim=0)                  # [num_classes]\n",
    "    neg_counts = num_samples - pos_counts           # [num_classes]\n",
    "    \n",
    "    # avoid division by zero (if class never appears)\n",
    "    pos_counts = torch.clamp(pos_counts, min=1)\n",
    "    \n",
    "    pos_weight = neg_counts / pos_counts\n",
    "    return pos_weight\n"
   ]
  },
  {
   "cell_type": "code",
   "execution_count": 8,
   "id": "d70431c3",
   "metadata": {},
   "outputs": [
    {
     "data": {
      "text/plain": [
       "torch.Size([49012, 20])"
      ]
     },
     "execution_count": 8,
     "metadata": {},
     "output_type": "execute_result"
    }
   ],
   "source": [
    "labesl = ds.tensors[-1]\n",
    "labesl.shape"
   ]
  },
  {
   "cell_type": "code",
   "execution_count": 9,
   "id": "6178f9b2",
   "metadata": {},
   "outputs": [
    {
     "data": {
      "text/plain": [
       "tensor([ 7.4242,  2.6639,  8.2336, 13.3646,  3.0758,  6.2600,  3.0108,  4.3729,\n",
       "         2.9967,  1.2923,  1.8135,  2.8932,  7.5911, 12.4722,  8.8556,  4.8923,\n",
       "         9.3576, 12.0873, 51.9287, 82.6382])"
      ]
     },
     "execution_count": 9,
     "metadata": {},
     "output_type": "execute_result"
    }
   ],
   "source": [
    "compute_pos_weights(labesl)"
   ]
  },
  {
   "cell_type": "code",
   "execution_count": 34,
   "id": "5a6dc5b9",
   "metadata": {},
   "outputs": [
    {
     "data": {
      "text/plain": [
       "tensor(147.9402, device='cuda:0')"
      ]
     },
     "execution_count": 34,
     "metadata": {},
     "output_type": "execute_result"
    }
   ],
   "source": [
    "weights = torch.tensor([9.211362733, 2.384068466, 8.295479204, 32.8629776, 2.992233613,\n",
    "                        6.064870808, 3.176470588, 4.187083754, 3.022222222, 1.216071737,\n",
    "                        1.677849552, 3.152851834, 7.123261694, 18.16629381, 13.8480647,\n",
    "                        6.335045662, 10.81701149, 13.40695067]).cuda()\n",
    "weights.sum()"
   ]
  },
  {
   "cell_type": "code",
   "execution_count": null,
   "id": "0cd186c5",
   "metadata": {},
   "outputs": [],
   "source": []
  },
  {
   "cell_type": "code",
   "execution_count": 12,
   "id": "5428e1d4",
   "metadata": {},
   "outputs": [],
   "source": [
    "def compute_alt_pos_weights(labels: torch.Tensor) -> torch.Tensor:\n",
    "    num_samples, _ = labels.shape\n",
    "    pos_counts = labels.sum(dim=0)\n",
    "    pos_counts = torch.clamp(pos_counts, min=1)\n",
    "    return num_samples / pos_counts"
   ]
  },
  {
   "cell_type": "code",
   "execution_count": 15,
   "id": "fa6cc5d4",
   "metadata": {},
   "outputs": [
    {
     "data": {
      "text/plain": [
       "tensor([ 8.4242,  3.6639,  9.2336, 14.3646,  4.0758,  7.2600,  4.0108,  5.3729,\n",
       "         3.9967,  2.2923,  2.8135,  3.8932,  8.5911, 13.4722,  9.8556,  5.8923,\n",
       "        10.3576, 13.0873, 52.9287, 83.6382])"
      ]
     },
     "execution_count": 15,
     "metadata": {},
     "output_type": "execute_result"
    }
   ],
   "source": [
    "weights  = compute_alt_pos_weights(labesl)\n",
    "weights"
   ]
  },
  {
   "cell_type": "code",
   "execution_count": 44,
   "id": "b5660965",
   "metadata": {},
   "outputs": [
    {
     "name": "stdout",
     "output_type": "stream",
     "text": [
      "tensor([1.1253, 0.6767, 0.9311, 2.3823, 0.7626, 0.8663, 0.8234, 0.8111, 0.7814,\n",
      "        0.5511, 0.6220, 0.8431, 0.8631, 1.4085, 1.4702, 1.1234, 1.0911, 1.0670])\n"
     ]
    }
   ],
   "source": [
    "\n",
    "given = torch.tensor([9.211362733, 2.384068466, 8.295479204, 32.8629776,\n",
    "                      2.992233613, 6.064870808, 3.176470588, 4.187083754,\n",
    "                      3.022222222, 1.216071737, 1.677849552, 3.152851834,\n",
    "                      7.123261694, 18.16629381, 13.8480647, 6.335045662,\n",
    "                      10.81701149, 13.40695067])\n",
    "\n",
    "computed = (N / pos_counts)   # your result from code\n",
    "\n",
    "ratios = given / computed\n",
    "print(ratios)"
   ]
  },
  {
   "cell_type": "code",
   "execution_count": null,
   "id": "c0f3c26a",
   "metadata": {},
   "outputs": [],
   "source": [
    "def compute_all_pos_weights(labels: torch.Tensor):\n",
    "    \"\"\"\n",
    "    Compute different variants of pos_weight for BCEWithLogitsLoss.\n",
    "    \n",
    "    Args:\n",
    "        labels (torch.Tensor): shape [num_samples, num_classes], binary (0/1).\n",
    "    \n",
    "    Returns:\n",
    "        dict: dictionary of {method_name: pos_weights_tensor}\n",
    "    \"\"\"\n",
    "    num_samples, num_classes = labels.shape\n",
    "    \n",
    "    pos_counts = labels.sum(dim=0)                # positives per class\n",
    "    neg_counts = num_samples - pos_counts         # negatives per class\n",
    "    \n",
    "    # avoid division by zero\n",
    "    pos_counts = torch.clamp(pos_counts, min=1)\n",
    "    neg_counts = torch.clamp(neg_counts, min=1)\n",
    "\n",
    "    results = {}\n",
    "\n",
    "    # 1. Classic: neg/pos\n",
    "    results[\"neg/pos\"] = neg_counts / pos_counts\n",
    "\n",
    "    # 2. Total/pos\n",
    "    results[\"N/pos\"] = num_samples / pos_counts\n",
    "\n",
    "    # 3. Log-scaling of N/pos\n",
    "    results[\"log(N/pos)\"] = torch.log1p(num_samples / pos_counts)\n",
    "\n",
    "    # 4. Sqrt-scaling of N/pos\n",
    "    results[\"sqrt(N/pos)\"] = torch.sqrt(num_samples / pos_counts)\n",
    "\n",
    "    # 5. Smoothing ( (neg+1)/(pos+1) )\n",
    "    results[\"smoothed\"] = (neg_counts + 1) / (pos_counts + 1)\n",
    "\n",
    "    # 6. Per-class frequency normalization\n",
    "    #   freq[c] = pos_counts[c] / N\n",
    "    #   pos_weight[c] = mean(freq) / freq[c]\n",
    "    freqs = pos_counts / num_samples\n",
    "    mean_freq = freqs.mean()\n",
    "    results[\"freq_norm\"] = mean_freq / freqs\n",
    "\n",
    "    return results\n",
    "\n"
   ]
  },
  {
   "cell_type": "code",
   "execution_count": 33,
   "id": "663f98cf",
   "metadata": {},
   "outputs": [
    {
     "name": "stdout",
     "output_type": "stream",
     "text": [
      "neg/pos: tensor([ 7.1855,  2.5232,  7.9091, 12.7947,  2.9238,  6.0013,  2.8577,  4.1620,\n",
      "         2.8675,  1.2067,  1.6975,  2.7396,  7.2528, 11.8977,  8.4191,  4.6394,\n",
      "         8.9141, 11.5651])\n",
      "N/pos: tensor([ 8.1855,  3.5232,  8.9091, 13.7947,  3.9238,  7.0013,  3.8577,  5.1620,\n",
      "         3.8675,  2.2067,  2.6975,  3.7396,  8.2528, 12.8977,  9.4191,  5.6394,\n",
      "         9.9141, 12.5651])\n",
      "log(N/pos): tensor([2.2176, 1.5092, 2.2935, 2.6943, 1.5941, 2.0796, 1.5806, 1.8184, 1.5826,\n",
      "        1.1652, 1.3077, 1.5559, 2.2249, 2.6317, 2.3436, 1.8930, 2.3901, 2.6075])\n",
      "sqrt(N/pos): tensor([2.8610, 1.8770, 2.9848, 3.7141, 1.9809, 2.6460, 1.9641, 2.2720, 1.9666,\n",
      "        1.4855, 1.6424, 1.9338, 2.8728, 3.5913, 3.0691, 2.3747, 3.1487, 3.5447])\n",
      "smoothed: tensor([ 7.1844,  2.5231,  7.9079, 12.7914,  2.9236,  6.0006,  2.8576,  4.1617,\n",
      "         2.8674,  1.2067,  1.6975,  2.7394,  7.2517, 11.8949,  8.4177,  4.6390,\n",
      "         8.9125, 11.5625])\n",
      "freq_norm: tensor([1.5706, 0.6760, 1.7095, 2.6469, 0.7529, 1.3434, 0.7402, 0.9905, 0.7421,\n",
      "        0.4234, 0.5176, 0.7176, 1.5835, 2.4748, 1.8073, 1.0821, 1.9023, 2.4110])\n"
     ]
    }
   ],
   "source": [
    "\n",
    "\n",
    "labels = ds.tensors[-1]\n",
    "weights_dict = compute_all_pos_weights(labels)\n",
    "for k, v in weights_dict.items():\n",
    "    print(f\"{k}: {v}\")"
   ]
  },
  {
   "cell_type": "code",
   "execution_count": null,
   "id": "9140dc8d",
   "metadata": {},
   "outputs": [],
   "source": []
  }
 ],
 "metadata": {
  "kernelspec": {
   "display_name": "Python 3",
   "language": "python",
   "name": "python3"
  },
  "language_info": {
   "codemirror_mode": {
    "name": "ipython",
    "version": 3
   },
   "file_extension": ".py",
   "mimetype": "text/x-python",
   "name": "python",
   "nbconvert_exporter": "python",
   "pygments_lexer": "ipython3",
   "version": "3.12.11"
  }
 },
 "nbformat": 4,
 "nbformat_minor": 5
}

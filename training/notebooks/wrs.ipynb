{
 "cells": [
  {
   "cell_type": "code",
   "execution_count": null,
   "id": "b507fb3d",
   "metadata": {},
   "outputs": [],
   "source": [
    "# load tensor dataset\n",
    "# iterate throuhg "
   ]
  },
  {
   "cell_type": "code",
   "execution_count": 1,
   "id": "d90374a8",
   "metadata": {},
   "outputs": [],
   "source": [
    "import numpy as np\n",
    "from tqdm import tqdm\n",
    "from torch.utils.data import Dataset, WeightedRandomSampler\n",
    "import sys\n",
    "import torch\n",
    "from  torch.utils.data import TensorDataset\n"
   ]
  },
  {
   "cell_type": "code",
   "execution_count": 2,
   "id": "a6a4cdfb",
   "metadata": {},
   "outputs": [],
   "source": [
    "\n",
    "train_ds = TensorDataset(\n",
    "        torch.load('/home/free4ky/projects/chest-diseases/data/preprocessed/train_data.pt'),\n",
    "        torch.load('/home/free4ky/projects/chest-diseases/data/preprocessed/train_labels.pt')\n",
    ")"
   ]
  },
  {
   "cell_type": "code",
   "execution_count": 19,
   "id": "e8ba59f7",
   "metadata": {},
   "outputs": [
    {
     "data": {
      "text/plain": [
       "array([1, 1, 1, ..., 1, 1, 1], shape=(37716,))"
      ]
     },
     "execution_count": 19,
     "metadata": {},
     "output_type": "execute_result"
    }
   ],
   "source": [
    "labels = train_ds.tensors[-1].any(dim=-1).long()\n",
    "labels = labels.numpy()\n",
    "labels"
   ]
  },
  {
   "cell_type": "code",
   "execution_count": 15,
   "id": "8f24c094",
   "metadata": {},
   "outputs": [],
   "source": [
    "class_count= np.unique(labels, return_counts=True)"
   ]
  },
  {
   "cell_type": "code",
   "execution_count": 17,
   "id": "0ed9946c",
   "metadata": {},
   "outputs": [
    {
     "data": {
      "text/plain": [
       "{np.int64(0): np.int64(4156), np.int64(1): np.int64(33560)}"
      ]
     },
     "execution_count": 17,
     "metadata": {},
     "output_type": "execute_result"
    }
   ],
   "source": [
    "class_dict = dict(zip(*class_count))\n",
    "class_dict"
   ]
  },
  {
   "cell_type": "code",
   "execution_count": null,
   "id": "1507129f",
   "metadata": {},
   "outputs": [],
   "source": [
    "def get_train_sampler(labels) -> WeightedRandomSampler:\n",
    "    class_count = np.unique(labels, return_counts=True)\n",
    "    class_dict = dict(zip(*class_count))\n",
    "    class_weights = {k: 1/v for k, v in class_dict.items()}\n",
    "    sample_weights = [0] * len(labels)\n",
    "    for i, label in enumerate(tqdm(labels)):\n",
    "        class_weight = class_weights[label]\n",
    "        sample_weights[i] = class_weight\n",
    "\n",
    "    N = int(max(class_dict.values()) * len(class_dict))  # fit to max\n",
    "    sampler = WeightedRandomSampler(sample_weights, num_samples=N, replacement=True)\n",
    "    return sampler"
   ]
  },
  {
   "cell_type": "code",
   "execution_count": null,
   "id": "5456d4f4",
   "metadata": {},
   "outputs": [],
   "source": []
  }
 ],
 "metadata": {
  "kernelspec": {
   "display_name": "Python 3",
   "language": "python",
   "name": "python3"
  },
  "language_info": {
   "codemirror_mode": {
    "name": "ipython",
    "version": 3
   },
   "file_extension": ".py",
   "mimetype": "text/x-python",
   "name": "python",
   "nbconvert_exporter": "python",
   "pygments_lexer": "ipython3",
   "version": "3.12.11"
  }
 },
 "nbformat": 4,
 "nbformat_minor": 5
}

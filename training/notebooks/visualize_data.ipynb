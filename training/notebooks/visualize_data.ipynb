{
 "cells": [
  {
   "cell_type": "code",
   "execution_count": 1,
   "id": "fe56b487",
   "metadata": {},
   "outputs": [
    {
     "name": "stderr",
     "output_type": "stream",
     "text": [
      "/home/borntowarn/projects/chest-diseases/venv/lib/python3.11/site-packages/tqdm/auto.py:21: TqdmWarning: IProgress not found. Please update jupyter and ipywidgets. See https://ipywidgets.readthedocs.io/en/stable/user_install.html\n",
      "  from .autonotebook import tqdm as notebook_tqdm\n"
     ]
    }
   ],
   "source": [
    "import sys\n",
    "sys.path.append('..')\n",
    "\n",
    "from src.data import examination_to_tensor_updated, examination_to_tensor, MosMedDataCachingDataset\n",
    "from src.utils.preprocess import extract_archive_to_dir, read_ct_series, get_thinnest_slice_series_with_windows_paths_, copy_files_to_directory, read_ct_series\n"
   ]
  },
  {
   "cell_type": "code",
   "execution_count": null,
   "id": "1c142133",
   "metadata": {},
   "outputs": [],
   "source": [
    "import matplotlib.pyplot as plt\n",
    "\n",
    "test_cases = {\n",
    "    'MOS-MED-DATA (small series)': '/home/borntowarn/projects/chest-diseases/training/data/MosMedData/MosMedData-CT-COVID19-type I-v 4/studies/1.2.643.5.1.13.13.12.2.77.8252.01101011030309040910031303051006/1.2.643.5.1.13.13.12.2.77.8252.05121306021209110205010506030606',\n",
    "    'MOS-MED-DATA (folder)': '/home/borntowarn/projects/chest-diseases/training/data/MosMedData/MosMedData-LDCT-LUNGCR-type I-v 1/studies/1.2.643.5.1.13.13.12.2.77.8252.00001007020103130905041401130706/1.2.643.5.1.13.13.12.2.77.8252.02110901050806091404100511030202',\n",
    "    'MOS-MED-DATA (folder another)': '/home/borntowarn/projects/chest-diseases/training/data/MosMedData/MosMedData-CT-COVID19-type VII-v 1/dicom/patient_001/study_01_2020-02-24',\n",
    "    'MOS-MED-DATA (.tar.gz)': '/home/borntowarn/projects/chest-diseases/training/data/MosMedData/CT_LUNGCANCER_500/dicom/RLAD42D007-22426_RLS6A01002SVR_2418816.tar.gz',\n",
    "    'CT-RATE': '/home/borntowarn/projects/chest-diseases/training/data/CT-RATE/dataset/valid_fixed/valid_1/valid_1_a/valid_1_a_1.nii.gz',\n",
    "    'TEST DICOM': '/home/borntowarn/projects/chest-diseases/training/data/MosMedData/MosMedData-CT-COVID19-type I-v 4/studies/1.2.643.5.1.13.13.12.2.77.8252.00020506050708130614110114150113/1.2.643.5.1.13.13.12.2.77.8252.13140405120912140900090404010802',\n",
    "    'NIFTI MOSMED (low quality)':'/home/borntowarn/projects/chest-diseases/training/data/MosMedData/COVID19_1110/studies/CT-0/study_0001.nii.gz'\n",
    "}\n",
    "\n",
    "\n",
    "\n",
    "for case in test_cases:\n",
    "    dicom_tensor = examination_to_tensor_updated(test_cases[case])\n",
    "    print(dicom_tensor.min(), dicom_tensor.max())\n",
    "\n",
    "    fig, axes = plt.subplots(1, 3, figsize=(10, 5))\n",
    "\n",
    "    # Plot the first slice (axial view)\n",
    "    axes[0].imshow(dicom_tensor[0, 120, :, :], cmap='gray')\n",
    "    axes[0].set_title('Axial View (Depth=120)')\n",
    "\n",
    "    # Plot the second slice (coronal view)\n",
    "    axes[1].imshow(dicom_tensor[0, :, 240, :], cmap='gray')\n",
    "    axes[1].set_title('Coronal View (Height=240)')\n",
    "\n",
    "    # Plot the third slice (sagittal view)\n",
    "    axes[2].imshow(dicom_tensor[0, :, :, 240], cmap='gray')\n",
    "    axes[2].set_title('Sagittal View (Width=240)')\n",
    "\n",
    "    for ax in axes:\n",
    "        ax.axis('off')\n",
    "\n",
    "    fig.suptitle(case, fontsize=16)\n",
    "\n",
    "    plt.tight_layout()\n",
    "    plt.show()"
   ]
  }
 ],
 "metadata": {
  "kernelspec": {
   "display_name": "Python 3",
   "language": "python",
   "name": "python3"
  },
  "language_info": {
   "codemirror_mode": {
    "name": "ipython",
    "version": 3
   },
   "file_extension": ".py",
   "mimetype": "text/x-python",
   "name": "python",
   "nbconvert_exporter": "python",
   "pygments_lexer": "ipython3",
   "version": "3.11.13"
  }
 },
 "nbformat": 4,
 "nbformat_minor": 5
}

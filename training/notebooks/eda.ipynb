{
 "cells": [
  {
   "cell_type": "code",
   "execution_count": 2,
   "id": "f1e92045",
   "metadata": {},
   "outputs": [],
   "source": [
    "import pandas as pd\n",
    "import seaborn as sns\n",
    "import matplotlib.pyplot as plt\n",
    "import torch\n",
    "import numpy as np\n",
    "import torch.nn as nn\n",
    "import hydra\n",
    "from torchmetrics import PrecisionRecallCurve, F1Score, ConfusionMatrix\n",
    "from typing import List, Any\n",
    "from torcheval.metrics.functional import binary_auprc, binary_auroc\n",
    "from collections import defaultdict\n",
    "from torch.utils.data import TensorDataset, DataLoader\n",
    "from loguru import logger\n",
    "from tqdm import tqdm\n",
    "from hydra import initialize, compose\n",
    "from omegaconf import OmegaConf"
   ]
  },
  {
   "cell_type": "code",
   "execution_count": 3,
   "id": "6df08ca7",
   "metadata": {},
   "outputs": [],
   "source": [
    "def _load_concat_dataset(embed_paths, label_paths):\n",
    "    \"\"\"\n",
    "    Load multiple .pt files and concatenate along dim 0\n",
    "    \"\"\"\n",
    "    X_list = [torch.load(p) for p in embed_paths]\n",
    "    y_list = [torch.load(p) for p in label_paths]\n",
    "    \n",
    "    X = torch.cat(X_list, dim=0)\n",
    "    y = torch.cat(y_list, dim=0)\n",
    "    \n",
    "    return TensorDataset(X, y)"
   ]
  },
  {
   "cell_type": "code",
   "execution_count": 8,
   "id": "890a8cca",
   "metadata": {},
   "outputs": [
    {
     "name": "stdout",
     "output_type": "stream",
     "text": [
      "optimizer:\n",
      "  _target_: torch.optim.Adam\n",
      "  lr: 0.03\n",
      "scheduler:\n",
      "  body:\n",
      "    _target_: torch.optim.lr_scheduler.CyclicLR\n",
      "    base_lr: 1.0e-06\n",
      "    max_lr: 0.03\n",
      "    cycle_momentum: false\n",
      "    mode: triangular2\n",
      "  pl_cfg:\n",
      "    interval: step\n",
      "dataset:\n",
      "  train:\n",
      "    embeds:\n",
      "    - /home/free4ky/projects/chest-diseases/data/preprocessed_train_20/train_data.pt\n",
      "    - /home/free4ky/projects/chest-diseases/data/preprocessed_train_20/val_data.pt\n",
      "    - /home/free4ky/projects/chest-diseases/data/preprocessed_mosmed/train_data.pt\n",
      "    - /home/free4ky/projects/chest-diseases/data/preprocessed_mosmed/val_data.pt\n",
      "    labels:\n",
      "    - /home/free4ky/projects/chest-diseases/data/preprocessed_train_20/train_labels.pt\n",
      "    - /home/free4ky/projects/chest-diseases/data/preprocessed_train_20/val_labels.pt\n",
      "    - /home/free4ky/projects/chest-diseases/data/preprocessed_mosmed/train_labels.pt\n",
      "    - /home/free4ky/projects/chest-diseases/data/preprocessed_mosmed/val_labels.pt\n",
      "  val:\n",
      "    embeds:\n",
      "    - /home/free4ky/projects/chest-diseases/data/preprocessed_mosmed/test_data.pt\n",
      "    - /home/free4ky/projects/chest-diseases/data/preprocessed_val_20/validation_data.pt\n",
      "    labels:\n",
      "    - /home/free4ky/projects/chest-diseases/data/preprocessed_mosmed/test_labels.pt\n",
      "    - /home/free4ky/projects/chest-diseases/data/preprocessed_val_20/validation_labels.pt\n",
      "  test:\n",
      "    embeds:\n",
      "    - /home/free4ky/projects/chest-diseases/data/preprocessed_mosmed/test_data.pt\n",
      "    - /home/free4ky/projects/chest-diseases/data/preprocessed_val_20/validation_data.pt\n",
      "    labels:\n",
      "    - /home/free4ky/projects/chest-diseases/data/preprocessed_mosmed/test_labels.pt\n",
      "    - /home/free4ky/projects/chest-diseases/data/preprocessed_val_20/validation_labels.pt\n",
      "model:\n",
      "  input_size: 512\n",
      "  batch_size: 2048\n",
      "  activation: leaky_relu\n",
      "  dropout: 0.2\n",
      "  hidden_sizes:\n",
      "  - 512\n",
      "  - 256\n",
      "  - 128\n",
      "max_epochs: 100\n",
      "optimized_metric: val_f1_macro\n",
      "save_dir: ${hydra:runtime.output_dir}/logs\n",
      "oversample: false\n",
      "\n"
     ]
    }
   ],
   "source": [
    "with initialize(version_base=None, config_path=\"../training/classification/configs\"):\n",
    "    cfg = compose(config_name=\"config_multilabel_test.yaml\",)\n",
    "    print(OmegaConf.to_yaml(cfg))"
   ]
  },
  {
   "cell_type": "code",
   "execution_count": 16,
   "id": "c3e4269f",
   "metadata": {},
   "outputs": [],
   "source": [
    "ds = _load_concat_dataset(\n",
    "        cfg.dataset.train.embeds + cfg.dataset.val.embeds,\n",
    "        cfg.dataset.train.labels + cfg.dataset.val.labels\n",
    "        )"
   ]
  },
  {
   "cell_type": "code",
   "execution_count": 18,
   "id": "a6272eed",
   "metadata": {},
   "outputs": [
    {
     "data": {
      "text/plain": [
       "torch.Size([52051, 512])"
      ]
     },
     "execution_count": 18,
     "metadata": {},
     "output_type": "execute_result"
    }
   ],
   "source": [
    "ds.tensors[0].shape"
   ]
  },
  {
   "cell_type": "code",
   "execution_count": 22,
   "id": "e6430c93",
   "metadata": {},
   "outputs": [],
   "source": [
    "binary_labels = ds.tensors[1].any(dim=-1)\n",
    "unique_elements, count = binary_labels.unique(return_counts=True)"
   ]
  },
  {
   "cell_type": "code",
   "execution_count": 24,
   "id": "b2292fef",
   "metadata": {},
   "outputs": [
    {
     "data": {
      "text/plain": [
       "tensor([ 6131., 14244.,  5633.,  3638., 12790.,  7168., 13009.,  9722., 12976.,\n",
       "        22742., 18604., 13420.,  6081.,  3891.,  5328.,  8899.,  5062.,  3994.,\n",
       "          926.,   586.])"
      ]
     },
     "execution_count": 24,
     "metadata": {},
     "output_type": "execute_result"
    }
   ],
   "source": [
    "multilabel_labels = ds.tensors[1].sum(dim=0)\n",
    "multilabel_labels"
   ]
  },
  {
   "cell_type": "code",
   "execution_count": 26,
   "id": "10b4d9fe",
   "metadata": {},
   "outputs": [],
   "source": [
    "deseases_names= [\n",
    "    \"Medical material\",\n",
    "    \"Arterial wall calcification\",\n",
    "    \"Cardiomegaly\",\n",
    "    \"Pericardial effusion\",\n",
    "    \"Coronary artery wall calcification\",\n",
    "    \"Hiatal hernia\",\n",
    "    \"Lymphadenopathy\",\n",
    "    \"Emphysema\",\n",
    "    \"Atelectasis\",\n",
    "    \"Lung nodule\",\n",
    "    \"Lung opacity\",\n",
    "    \"Pulmonary fibrotic sequela\",\n",
    "    \"Pleural effusion\",\n",
    "    \"Mosaic attenuation pattern\",\n",
    "    \"Peribronchial thickening\",\n",
    "    \"Consolidation\",\n",
    "    \"Bronchiectasis\",\n",
    "    \"Interlobular septal thickening\",\n",
    "    \"COVID-19\",\n",
    "    \"Cancer\",\n",
    "]"
   ]
  },
  {
   "cell_type": "code",
   "execution_count": 29,
   "id": "084751ed",
   "metadata": {},
   "outputs": [
    {
     "data": {
      "text/plain": [
       "{'Medical material': 6131.0,\n",
       " 'Arterial wall calcification': 14244.0,\n",
       " 'Cardiomegaly': 5633.0,\n",
       " 'Pericardial effusion': 3638.0,\n",
       " 'Coronary artery wall calcification': 12790.0,\n",
       " 'Hiatal hernia': 7168.0,\n",
       " 'Lymphadenopathy': 13009.0,\n",
       " 'Emphysema': 9722.0,\n",
       " 'Atelectasis': 12976.0,\n",
       " 'Lung nodule': 22742.0,\n",
       " 'Lung opacity': 18604.0,\n",
       " 'Pulmonary fibrotic sequela': 13420.0,\n",
       " 'Pleural effusion': 6081.0,\n",
       " 'Mosaic attenuation pattern': 3891.0,\n",
       " 'Peribronchial thickening': 5328.0,\n",
       " 'Consolidation': 8899.0,\n",
       " 'Bronchiectasis': 5062.0,\n",
       " 'Interlobular septal thickening': 3994.0,\n",
       " 'COVID-19': 926.0,\n",
       " 'Cancer': 586.0}"
      ]
     },
     "execution_count": 29,
     "metadata": {},
     "output_type": "execute_result"
    }
   ],
   "source": [
    "name2count = dict(zip(deseases_names,multilabel_labels.tolist()))\n",
    "name2count"
   ]
  },
  {
   "cell_type": "code",
   "execution_count": 36,
   "id": "393d6517",
   "metadata": {},
   "outputs": [],
   "source": [
    "df = pd.DataFrame.from_dict(name2count, orient='index', columns=['count']).reset_index()\n",
    "df = df.rename(columns={'index': 'class'})\n",
    "df.to_excel('multilabel_counts.xlsx', index=False)"
   ]
  },
  {
   "cell_type": "code",
   "execution_count": null,
   "id": "24ebdd17",
   "metadata": {},
   "outputs": [],
   "source": [
    "pd.to_xl"
   ]
  },
  {
   "cell_type": "code",
   "execution_count": 23,
   "id": "33ea7fcd",
   "metadata": {},
   "outputs": [
    {
     "data": {
      "text/plain": [
       "tensor([ 5924, 46127])"
      ]
     },
     "execution_count": 23,
     "metadata": {},
     "output_type": "execute_result"
    }
   ],
   "source": [
    "count"
   ]
  },
  {
   "cell_type": "code",
   "execution_count": 7,
   "id": "0ab5e5c3",
   "metadata": {},
   "outputs": [],
   "source": [
    "cfg.dataset.train.labels.extend(cfg.dataset.val.labels)"
   ]
  },
  {
   "cell_type": "code",
   "execution_count": 12,
   "id": "8ca606a4",
   "metadata": {},
   "outputs": [
    {
     "data": {
      "text/plain": [
       "6"
      ]
     },
     "execution_count": 12,
     "metadata": {},
     "output_type": "execute_result"
    }
   ],
   "source": [
    "len(cfg.dataset.train.embeds + cfg.dataset.val.embeds)"
   ]
  },
  {
   "cell_type": "code",
   "execution_count": null,
   "id": "27d5562a",
   "metadata": {},
   "outputs": [
    {
     "data": {
      "text/plain": [
       "6"
      ]
     },
     "execution_count": 14,
     "metadata": {},
     "output_type": "execute_result"
    }
   ],
   "source": [
    "len(cfg.dataset.train.labels + cfg.dataset.val.labels)"
   ]
  },
  {
   "cell_type": "code",
   "execution_count": null,
   "id": "04cde708",
   "metadata": {},
   "outputs": [],
   "source": []
  }
 ],
 "metadata": {
  "kernelspec": {
   "display_name": "Python 3",
   "language": "python",
   "name": "python3"
  },
  "language_info": {
   "codemirror_mode": {
    "name": "ipython",
    "version": 3
   },
   "file_extension": ".py",
   "mimetype": "text/x-python",
   "name": "python",
   "nbconvert_exporter": "python",
   "pygments_lexer": "ipython3",
   "version": "3.12.11"
  }
 },
 "nbformat": 4,
 "nbformat_minor": 5
}
